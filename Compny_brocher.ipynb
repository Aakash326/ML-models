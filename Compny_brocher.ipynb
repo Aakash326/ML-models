{
  "nbformat": 4,
  "nbformat_minor": 0,
  "metadata": {
    "colab": {
      "provenance": [],
      "authorship_tag": "ABX9TyOhj4GHuuBwxtCDgVul6v07",
      "include_colab_link": true
    },
    "kernelspec": {
      "name": "python3",
      "display_name": "Python 3"
    },
    "language_info": {
      "name": "python"
    }
  },
  "cells": [
    {
      "cell_type": "markdown",
      "metadata": {
        "id": "view-in-github",
        "colab_type": "text"
      },
      "source": [
        "<a href=\"https://colab.research.google.com/github/Aakash326/ML-models/blob/main/Compny_brocher.ipynb\" target=\"_parent\"><img src=\"https://colab.research.google.com/assets/colab-badge.svg\" alt=\"Open In Colab\"/></a>"
      ]
    },
    {
      "cell_type": "code",
      "execution_count": 1,
      "metadata": {
        "colab": {
          "base_uri": "https://localhost:8080/",
          "height": 0
        },
        "id": "4NgomFFHocPj",
        "outputId": "1cb5c8c9-6bd2-4e94-d647-4855f47a1627"
      },
      "outputs": [
        {
          "output_type": "stream",
          "name": "stdout",
          "text": [
            "Requirement already satisfied: google-generativeai in /usr/local/lib/python3.11/dist-packages (0.8.5)\n",
            "Collecting python-dotenv\n",
            "  Downloading python_dotenv-1.1.1-py3-none-any.whl.metadata (24 kB)\n",
            "Requirement already satisfied: beautifulsoup4 in /usr/local/lib/python3.11/dist-packages (4.13.4)\n",
            "Requirement already satisfied: requests in /usr/local/lib/python3.11/dist-packages (2.32.3)\n",
            "Requirement already satisfied: google-ai-generativelanguage==0.6.15 in /usr/local/lib/python3.11/dist-packages (from google-generativeai) (0.6.15)\n",
            "Requirement already satisfied: google-api-core in /usr/local/lib/python3.11/dist-packages (from google-generativeai) (2.25.1)\n",
            "Requirement already satisfied: google-api-python-client in /usr/local/lib/python3.11/dist-packages (from google-generativeai) (2.174.0)\n",
            "Requirement already satisfied: google-auth>=2.15.0 in /usr/local/lib/python3.11/dist-packages (from google-generativeai) (2.38.0)\n",
            "Requirement already satisfied: protobuf in /usr/local/lib/python3.11/dist-packages (from google-generativeai) (5.29.5)\n",
            "Requirement already satisfied: pydantic in /usr/local/lib/python3.11/dist-packages (from google-generativeai) (2.11.7)\n",
            "Requirement already satisfied: tqdm in /usr/local/lib/python3.11/dist-packages (from google-generativeai) (4.67.1)\n",
            "Requirement already satisfied: typing-extensions in /usr/local/lib/python3.11/dist-packages (from google-generativeai) (4.14.0)\n",
            "Requirement already satisfied: proto-plus<2.0.0dev,>=1.22.3 in /usr/local/lib/python3.11/dist-packages (from google-ai-generativelanguage==0.6.15->google-generativeai) (1.26.1)\n",
            "Requirement already satisfied: soupsieve>1.2 in /usr/local/lib/python3.11/dist-packages (from beautifulsoup4) (2.7)\n",
            "Requirement already satisfied: charset-normalizer<4,>=2 in /usr/local/lib/python3.11/dist-packages (from requests) (3.4.2)\n",
            "Requirement already satisfied: idna<4,>=2.5 in /usr/local/lib/python3.11/dist-packages (from requests) (3.10)\n",
            "Requirement already satisfied: urllib3<3,>=1.21.1 in /usr/local/lib/python3.11/dist-packages (from requests) (2.4.0)\n",
            "Requirement already satisfied: certifi>=2017.4.17 in /usr/local/lib/python3.11/dist-packages (from requests) (2025.6.15)\n",
            "Requirement already satisfied: googleapis-common-protos<2.0.0,>=1.56.2 in /usr/local/lib/python3.11/dist-packages (from google-api-core->google-generativeai) (1.70.0)\n",
            "Requirement already satisfied: cachetools<6.0,>=2.0.0 in /usr/local/lib/python3.11/dist-packages (from google-auth>=2.15.0->google-generativeai) (5.5.2)\n",
            "Requirement already satisfied: pyasn1-modules>=0.2.1 in /usr/local/lib/python3.11/dist-packages (from google-auth>=2.15.0->google-generativeai) (0.4.2)\n",
            "Requirement already satisfied: rsa<5,>=3.1.4 in /usr/local/lib/python3.11/dist-packages (from google-auth>=2.15.0->google-generativeai) (4.9.1)\n",
            "Requirement already satisfied: httplib2<1.0.0,>=0.19.0 in /usr/local/lib/python3.11/dist-packages (from google-api-python-client->google-generativeai) (0.22.0)\n",
            "Requirement already satisfied: google-auth-httplib2<1.0.0,>=0.2.0 in /usr/local/lib/python3.11/dist-packages (from google-api-python-client->google-generativeai) (0.2.0)\n",
            "Requirement already satisfied: uritemplate<5,>=3.0.1 in /usr/local/lib/python3.11/dist-packages (from google-api-python-client->google-generativeai) (4.2.0)\n",
            "Requirement already satisfied: annotated-types>=0.6.0 in /usr/local/lib/python3.11/dist-packages (from pydantic->google-generativeai) (0.7.0)\n",
            "Requirement already satisfied: pydantic-core==2.33.2 in /usr/local/lib/python3.11/dist-packages (from pydantic->google-generativeai) (2.33.2)\n",
            "Requirement already satisfied: typing-inspection>=0.4.0 in /usr/local/lib/python3.11/dist-packages (from pydantic->google-generativeai) (0.4.1)\n",
            "Requirement already satisfied: grpcio<2.0.0,>=1.33.2 in /usr/local/lib/python3.11/dist-packages (from google-api-core[grpc]!=2.0.*,!=2.1.*,!=2.10.*,!=2.2.*,!=2.3.*,!=2.4.*,!=2.5.*,!=2.6.*,!=2.7.*,!=2.8.*,!=2.9.*,<3.0.0dev,>=1.34.1->google-ai-generativelanguage==0.6.15->google-generativeai) (1.73.1)\n",
            "Requirement already satisfied: grpcio-status<2.0.0,>=1.33.2 in /usr/local/lib/python3.11/dist-packages (from google-api-core[grpc]!=2.0.*,!=2.1.*,!=2.10.*,!=2.2.*,!=2.3.*,!=2.4.*,!=2.5.*,!=2.6.*,!=2.7.*,!=2.8.*,!=2.9.*,<3.0.0dev,>=1.34.1->google-ai-generativelanguage==0.6.15->google-generativeai) (1.71.2)\n",
            "Requirement already satisfied: pyparsing!=3.0.0,!=3.0.1,!=3.0.2,!=3.0.3,<4,>=2.4.2 in /usr/local/lib/python3.11/dist-packages (from httplib2<1.0.0,>=0.19.0->google-api-python-client->google-generativeai) (3.2.3)\n",
            "Requirement already satisfied: pyasn1<0.7.0,>=0.6.1 in /usr/local/lib/python3.11/dist-packages (from pyasn1-modules>=0.2.1->google-auth>=2.15.0->google-generativeai) (0.6.1)\n",
            "Downloading python_dotenv-1.1.1-py3-none-any.whl (20 kB)\n",
            "Installing collected packages: python-dotenv\n",
            "Successfully installed python-dotenv-1.1.1\n"
          ]
        }
      ],
      "source": [
        "pip install google-generativeai python-dotenv beautifulsoup4 requests"
      ]
    },
    {
      "cell_type": "code",
      "source": [
        "GEMINI_API_KEY='***************'"
      ],
      "metadata": {
        "id": "2C8Bjqv_oeHo"
      },
      "execution_count": 2,
      "outputs": []
    },
    {
      "cell_type": "code",
      "source": [
        "import os\n",
        "import json\n",
        "import requests\n",
        "from dotenv import load_dotenv\n",
        "from bs4 import BeautifulSoup\n",
        "import google.generativeai as genai\n",
        "from IPython.display import Markdown, display"
      ],
      "metadata": {
        "id": "UGkbiRKco9wd"
      },
      "execution_count": 3,
      "outputs": []
    },
    {
      "cell_type": "code",
      "source": [
        "import google.generativeai as genai\n",
        "\n",
        "# ✅ Paste your Gemini key directly here\n",
        "api_key = \"*************\"\n",
        "genai.configure(api_key=api_key)"
      ],
      "metadata": {
        "id": "XtV-G045o_47"
      },
      "execution_count": 4,
      "outputs": []
    },
    {
      "cell_type": "code",
      "source": [
        "if api_key and len(api_key) > 10:\n",
        "    print(\"API key looks good so far\")\n",
        "else:\n",
        "    print(\"There might be a problem with your API key? Please check your .env file!\")\n",
        "\n",
        "MODEL = 'gemini-1.5-flash'\n",
        "genai.configure(api_key=api_key)"
      ],
      "metadata": {
        "colab": {
          "base_uri": "https://localhost:8080/",
          "height": 0
        },
        "id": "o2lQBllYtF9Y",
        "outputId": "64a0e48a-8c9d-4708-8cab-3d8d1513c74d"
      },
      "execution_count": 5,
      "outputs": [
        {
          "output_type": "stream",
          "name": "stdout",
          "text": [
            "API key looks good so far\n"
          ]
        }
      ]
    },
    {
      "cell_type": "code",
      "source": [
        "headers = {\n",
        " \"User-Agent\": \"Mozilla/5.0 (Windows NT 10.0; Win64; x64) AppleWebKit/537.36 (KHTML, like Gecko) Chrome/117.0.0.0 Safari/537.36\"\n",
        "}"
      ],
      "metadata": {
        "id": "BLbHWmVupO2U"
      },
      "execution_count": 6,
      "outputs": []
    },
    {
      "cell_type": "code",
      "source": [
        "class Website:\n",
        "    def __init__(self, url):\n",
        "        self.url = url\n",
        "        response = requests.get(url, headers=headers)\n",
        "        self.body = response.content\n",
        "        soup = BeautifulSoup(self.body, 'html.parser')\n",
        "        self.title = soup.title.string if soup.title else \"No title found\"\n",
        "        if soup.body:\n",
        "            for irrelevant in soup.body([\"script\", \"style\", \"img\", \"input\"]):\n",
        "                irrelevant.decompose()\n",
        "            self.text = soup.body.get_text(separator=\"\\n\", strip=True)\n",
        "        else:\n",
        "            self.text = \"\"\n",
        "        links = [link.get('href') for link in soup.find_all('a')]\n",
        "        self.links = [link for link in links if link]\n",
        "\n",
        "    def get_contents(self):\n",
        "        return f\"Webpage Title:\\n{self.title}\\nWebpage Contents:\\n{self.text}\\n\\n\""
      ],
      "metadata": {
        "id": "2YURq2JqunQB"
      },
      "execution_count": 7,
      "outputs": []
    },
    {
      "cell_type": "code",
      "source": [
        "ed=Website(\"https://www.gitam.edu/hyderabad/campus-life\")\n",
        "print(ed.links)"
      ],
      "metadata": {
        "colab": {
          "base_uri": "https://localhost:8080/",
          "height": 0
        },
        "id": "HXs1cYihqHOR",
        "outputId": "6bae9d11-447e-4c20-a2bd-2d3b06310b57"
      },
      "execution_count": 8,
      "outputs": [
        {
          "output_type": "stream",
          "name": "stdout",
          "text": [
            "['/aspiring-students', '/bengaluru/campus-life', 'https://www.alumni.gitam.edu/', '/about/faculty', 'https://vdc.gitam.edu/', '/faqs', 'https://careers.gitam.edu/', 'javascript:;', 'https://login.gitam.edu/', 'https://gparent.gitam.edu/login', 'https://login.gitam.edu/Login.aspx', 'https://gpay.gitam.edu/', '/', 'javascript:;', 'https://login.gitam.edu/', 'https://gparent.gitam.edu/login', 'https://login.gitam.edu/Login.aspx', 'https://gpay.gitam.edu/', '/about-us', 'javascript:;', '/bengaluru/campus-life', '/visakhapatnam/campus-life', '/hyderabad/campus-life', '/gimsr/campus-life', '/about/faculty', '/about/leadership', '/about/accrediation', 'https://iqac.gitam.edu/nirf', '/about/sustainable-development', 'javascript:;', 'https://iqac.gitam.edu/sustainable_climate', 'https://iqac.gitam.edu/GITAM_Sustainable_Procurement', 'https://iqac.gitam.edu/sustainable_investment', 'https://iqac.gitam.edu/net_zero_policy', 'https://iqac.gitam.edu/equality_diversity_policy', 'https://iqac.gitam.edu/differently_abled_comittee', 'https://iqac.gitam.edu/equal_opportunity_cell', 'https://womenempowerment.gitam.edu/', 'https://iqac.gitam.edu/feedback', '/hyderabad/gitam-school-of-education#ncte-itep', 'javascript:;', '/bengaluru/gitam-school-of-technology', '/bengaluru/gitam-school-of-humanities-and-social-sciences', '/bengaluru/gitam-school-of-business', '/bengaluru/gitam-school-of-science', 'javascript:;', '/hyderabad/gitam-school-of-architecture', '/hyderabad/gitam-school-of-education', '/hyderabad/gitam-school-of-technology', '/hyderabad/gitam-school-of-humanities-and-social-sciences', '/hyderabad/gitam-school-of-business', '/hyderabad/gitam-school-of-pharmacy', 'https://kspp.edu.in', '/hyderabad/gitam-school-of-science', 'javascript:;', '/visakhapatnam/gitam-school-of-architecture', '/visakhapatnam/gitam-school-of-technology', '/visakhapatnam/gitam-school-of-humanities-and-social-sciences', '/visakhapatnam/gitam-school-of-law', '/visakhapatnam/gitam-school-of-business', '/visakhapatnam/gitam-school-of-pharmacy', '/visakhapatnam/gitam-school-of-science', 'javascript:;', '/gimsr/gitam-medical-college', '/gimsr/gitam-institute-of-nursing', '/gimsr/gitam-school-of-paramedical-sciences', '/gimsr/gitam-school-of-physiotherapy', '/academics/liberal-education', '/academics/performing-arts', '/academics/blended-learning-model', '/academic/syllabus', 'javascript:;', '/academics/evaluation/applications-fee-structure', 'https://onlinedoereceipts.gitam.edu/', 'https://eweb.gitam.edu/doereceipts/', '/academics/evaluation/annual-reports', '/sites/default/files/docs/others/percentageconversioncertificate.pdf', '/academics/evaluation/evaluation-contact', '/academics/evaluation/redressal-of-grievances', '/academics/evaluation/evaluation-norms', 'https://gu.gitam.edu/exam-notifications', 'https://gu.gitam.edu/time-table', 'https://doeresults.gitam.edu/gitamhallticket/Hallticketno.aspx', '/academics/evaluation/instructions-apply-examination-and-certificates', '/academics/evaluation/national-academic-depository-academic-bank-of-credits', '/academics/evaluation/recent-updates-in-regulations', 'https://eweb.gitam.edu/doereceipts/Selectform1.aspx', 'https://gu.gitam.edu/results', 'https://library.gitam.edu/', '/school-of-business/young-entrepreneurs-programme', 'https://www.gitam.edu/academics/academic-calendar', 'https://www.gitam.edu/academics/academic-policies', 'https://www.gitam.edu/academics/academic-regulations', '/research/research-innovations/about', '/research/research-innovations/about/phd-programme', '/research/research-innovations/research-strategy', '/research/research-innovations/research-strategy/research-initiatives', '/research/research-policies', '/research/centres-of-excellence', '/research/research-innovations/research-project/patents', '/research/research-innovations/research-project/publications', '/research/murti', 'https://gtec.gitam.edu/', '/fee-scholarship/student-scholarships', '/fee-scholarship/fee-structure', 'https://gpay.gitam.edu/', '/career-guidance-centre', '/media/events', '/changemakers', '/aspiring-students', '/bengaluru/campus-life', 'https://www.alumni.gitam.edu/', '/about/faculty', 'https://vdc.gitam.edu/', '/faqs', 'https://careers.gitam.edu/', '/', '/about-us', '/bengaluru/campus-life', '\\r\\n/hyderabad/campus-life', '/visakhapatnam/campus-life', '/gimsr/campus-life', '/hyderabad/gitam-school-of-business', '/hyderabad/gitam-school-of-business', '/hyderabad/gitam-school-of-humanities-and-social-sciences', '/hyderabad/gitam-school-of-humanities-and-social-sciences', '/hyderabad/gitam-school-of-science', '/hyderabad/gitam-school-of-science', '/hyderabad/gitam-school-of-technology', '/hyderabad/gitam-school-of-technology', '/hyderabad/gitam-school-of-architecture', '/hyderabad/gitam-school-of-architecture', '/hyderabad/gitam-school-of-pharmacy', '/hyderabad/gitam-school-of-pharmacy', 'https://kspp.edu.in/', 'https://kspp.edu.in/', 'https://www.gitam.edu/hyderabad/campus-life', 'https://www.gitam.edu/hyderabad/campus-life?field_course_level_value_selective=pg', 'https://www.gitam.edu/hyderabad/campus-life?field_course_level_value_selective=phd', '/hyderabad/management/course/b-com-acca-association-of-certified-chartered-accountants', '/hyderabad/management/course/b-com-acca-association-of-certified-chartered-accountants', '/hyderabad/pharmacy/course/b-pharm', '/hyderabad/pharmacy/course/b-pharm', '/hyderabad/chemistry/course/bsc-chemistry', '/hyderabad/chemistry/course/bsc-chemistry', '/hyderabad/computer-science/course/bsc-computer-science-with-cognitive-systems', '/hyderabad/computer-science/course/bsc-computer-science-with-cognitive-systems', '/hyderabad/food-science-technology/course/bsc-food-science-and-technology', '/hyderabad/food-science-technology/course/bsc-food-science-and-technology', '/hyderabad/physics/course/bsc-physics', '/hyderabad/physics/course/bsc-physics', '?page=1', '/about/faculty', 'javascript:;', 'javascript:;', 'javascript:;', '/hyderabad/campus-life/campus-dining', '/hyderabad/campus-life/student-clubs', '/hyderabad/campus-life/sports', 'https://g.co/kgs/S1dGzFE', '/hyderabad/campus-life/sports', '/event/ph-d-viva-voce-mrs-rayavarapu-vijaya-sree', 'https://gevents.gitam.edu/registration/NDQ4OA..', '/event/two-days-national-seminar-on-emerging-trends-and-innovations-in-multidisciplinary-engineering', 'https://gevents.gitam.edu/registration/NDM5NQ..', '/event/module-training-on-paediatric-life-support-and-neonatal-resuscitation', 'https://gevents.gitam.edu/registration/NDQ0OA..', '/media/events', '/hyderabad/campus-life/residential-life', '/hyderabad/campus-life/transport-facilities', '/hyderabad/campus-life/safety-and-security', '/', '/about/accrediation', '/about/accrediation/nirf', 'https://iqac.gitam.edu/', '/about/sustainable-development', '/academics/programme-finder', '/fee-scholarship/student-scholarships', '/fee-scholarship/fee-structure', 'https://apply.gitam.edu/', '/research/centres-of-excellence', '/about/faculty', '/about/leadership', '/media/events', '/research/research-innovations/about', '/research/research-innovations/research-strategy/research-initiatives', '/research/research-innovations/research-strategy', '/research/research-innovations/research-project', '/cookie-policy', '/privacy-policy', '/sites/default/files/docs/others/UGC-Fee-Refund-Policy2024-25.pdf', '/anti-caste-based-discrimination-policy', 'https://womenempowerment.gitam.edu/', '/academics/evaluation/grievance-redressal', 'https://samadhaan.ugc.ac.in/', '/sites/default/files/docs/others/holidays-2025.pdf', 'https://iqac.gitam.edu/mandatory-disclosure', '/bengaluru/campus-life', '/hyderabad/campus-life', '/visakhapatnam/campus-life', '/gimsr/campus-life', 'https://www.youtube.com/gitamdeemeduniversity', 'https://www.facebook.com/gitamdeemeduniversity', 'https://www.instagram.com/gitamdeemeduniversity', 'https://twitter.com/GITAMUniversity', 'https://www.linkedin.com/school/gitam-deemed-university', 'https://apply.gitam.edu/', '/contact-us', '/chat-with-a-student-ambassador', 'javascript:;']\n"
          ]
        }
      ]
    },
    {
      "cell_type": "code",
      "source": [
        "link_system_prompt = \"You are provided with a list of links found on a webpage. \\\n",
        "You are able to decide which of the links would be most relevant to include in a brochure about the company, \\\n",
        "such as links to an About page, or a Company page, or Careers/Jobs,placments as this is important .\\n\"\n",
        "link_system_prompt += \"You should respond in JSON as in this example:\"\n",
        "link_system_prompt += \"\"\"\n",
        "{\n",
        "    \"links\": [\n",
        "        {\"type\": \"about page\", \"url\": \"https://full.url/goes/here/about\"},\n",
        "        {\"type\": \"careers page\", \"url\": \"https://another.full.url/careers\"}\n",
        "    ]\n",
        "}\n",
        "\"\"\""
      ],
      "metadata": {
        "id": "OMk9tkmXqWYY"
      },
      "execution_count": 20,
      "outputs": []
    },
    {
      "cell_type": "code",
      "source": [
        "link_system_prompt"
      ],
      "metadata": {
        "colab": {
          "base_uri": "https://localhost:8080/",
          "height": 86
        },
        "id": "U09widxHsb8F",
        "outputId": "6c0d8c13-ffa5-4150-e1b0-4e418c9356ac"
      },
      "execution_count": 21,
      "outputs": [
        {
          "output_type": "execute_result",
          "data": {
            "text/plain": [
              "'You are provided with a list of links found on a webpage. You are able to decide which of the links would be most relevant to include in a brochure about the company, such as links to an About page, or a Company page, or Careers/Jobs,placments as this is important .\\nYou should respond in JSON as in this example:\\n{\\n    \"links\": [\\n        {\"type\": \"about page\", \"url\": \"https://full.url/goes/here/about\"},\\n        {\"type\": \"careers page\", \"url\": \"https://another.full.url/careers\"}\\n    ]\\n}\\n'"
            ],
            "application/vnd.google.colaboratory.intrinsic+json": {
              "type": "string"
            }
          },
          "metadata": {},
          "execution_count": 21
        }
      ]
    },
    {
      "cell_type": "code",
      "source": [
        "def get_links_user_prompt(website):\n",
        "    user_prompt = f\"Here is the list of links on the website of {website.url} - \"\n",
        "    user_prompt += \"please decide which of these are relevant web links for a brochure about the company, respond with the full https URL in JSON format. \\\n",
        "Do not include Terms of Service, Privacy, email links.\\n\"\n",
        "    user_prompt += \"Links (some might be relative links):\\n\"\n",
        "    user_prompt += \"\\n\".join(website.links)\n",
        "    return user_prompt"
      ],
      "metadata": {
        "id": "B0Z8hbBwsp8G"
      },
      "execution_count": 22,
      "outputs": []
    },
    {
      "cell_type": "code",
      "source": [
        "print(get_links_user_prompt(ed))"
      ],
      "metadata": {
        "colab": {
          "base_uri": "https://localhost:8080/",
          "height": 0
        },
        "collapsed": true,
        "id": "92ptSlimvaE9",
        "outputId": "03a83a43-dc58-4b3a-909f-a24a9f0a3458"
      },
      "execution_count": 23,
      "outputs": [
        {
          "output_type": "stream",
          "name": "stdout",
          "text": [
            "Here is the list of links on the website of https://www.gitam.edu/hyderabad/campus-life - please decide which of these are relevant web links for a brochure about the company, respond with the full https URL in JSON format. Do not include Terms of Service, Privacy, email links.\n",
            "Links (some might be relative links):\n",
            "/aspiring-students\n",
            "/bengaluru/campus-life\n",
            "https://www.alumni.gitam.edu/\n",
            "/about/faculty\n",
            "https://vdc.gitam.edu/\n",
            "/faqs\n",
            "https://careers.gitam.edu/\n",
            "javascript:;\n",
            "https://login.gitam.edu/\n",
            "https://gparent.gitam.edu/login\n",
            "https://login.gitam.edu/Login.aspx\n",
            "https://gpay.gitam.edu/\n",
            "/\n",
            "javascript:;\n",
            "https://login.gitam.edu/\n",
            "https://gparent.gitam.edu/login\n",
            "https://login.gitam.edu/Login.aspx\n",
            "https://gpay.gitam.edu/\n",
            "/about-us\n",
            "javascript:;\n",
            "/bengaluru/campus-life\n",
            "/visakhapatnam/campus-life\n",
            "/hyderabad/campus-life\n",
            "/gimsr/campus-life\n",
            "/about/faculty\n",
            "/about/leadership\n",
            "/about/accrediation\n",
            "https://iqac.gitam.edu/nirf\n",
            "/about/sustainable-development\n",
            "javascript:;\n",
            "https://iqac.gitam.edu/sustainable_climate\n",
            "https://iqac.gitam.edu/GITAM_Sustainable_Procurement\n",
            "https://iqac.gitam.edu/sustainable_investment\n",
            "https://iqac.gitam.edu/net_zero_policy\n",
            "https://iqac.gitam.edu/equality_diversity_policy\n",
            "https://iqac.gitam.edu/differently_abled_comittee\n",
            "https://iqac.gitam.edu/equal_opportunity_cell\n",
            "https://womenempowerment.gitam.edu/\n",
            "https://iqac.gitam.edu/feedback\n",
            "/hyderabad/gitam-school-of-education#ncte-itep\n",
            "javascript:;\n",
            "/bengaluru/gitam-school-of-technology\n",
            "/bengaluru/gitam-school-of-humanities-and-social-sciences\n",
            "/bengaluru/gitam-school-of-business\n",
            "/bengaluru/gitam-school-of-science\n",
            "javascript:;\n",
            "/hyderabad/gitam-school-of-architecture\n",
            "/hyderabad/gitam-school-of-education\n",
            "/hyderabad/gitam-school-of-technology\n",
            "/hyderabad/gitam-school-of-humanities-and-social-sciences\n",
            "/hyderabad/gitam-school-of-business\n",
            "/hyderabad/gitam-school-of-pharmacy\n",
            "https://kspp.edu.in\n",
            "/hyderabad/gitam-school-of-science\n",
            "javascript:;\n",
            "/visakhapatnam/gitam-school-of-architecture\n",
            "/visakhapatnam/gitam-school-of-technology\n",
            "/visakhapatnam/gitam-school-of-humanities-and-social-sciences\n",
            "/visakhapatnam/gitam-school-of-law\n",
            "/visakhapatnam/gitam-school-of-business\n",
            "/visakhapatnam/gitam-school-of-pharmacy\n",
            "/visakhapatnam/gitam-school-of-science\n",
            "javascript:;\n",
            "/gimsr/gitam-medical-college\n",
            "/gimsr/gitam-institute-of-nursing\n",
            "/gimsr/gitam-school-of-paramedical-sciences\n",
            "/gimsr/gitam-school-of-physiotherapy\n",
            "/academics/liberal-education\n",
            "/academics/performing-arts\n",
            "/academics/blended-learning-model\n",
            "/academic/syllabus\n",
            "javascript:;\n",
            "/academics/evaluation/applications-fee-structure\n",
            "https://onlinedoereceipts.gitam.edu/\n",
            "https://eweb.gitam.edu/doereceipts/\n",
            "/academics/evaluation/annual-reports\n",
            "/sites/default/files/docs/others/percentageconversioncertificate.pdf\n",
            "/academics/evaluation/evaluation-contact\n",
            "/academics/evaluation/redressal-of-grievances\n",
            "/academics/evaluation/evaluation-norms\n",
            "https://gu.gitam.edu/exam-notifications\n",
            "https://gu.gitam.edu/time-table\n",
            "https://doeresults.gitam.edu/gitamhallticket/Hallticketno.aspx\n",
            "/academics/evaluation/instructions-apply-examination-and-certificates\n",
            "/academics/evaluation/national-academic-depository-academic-bank-of-credits\n",
            "/academics/evaluation/recent-updates-in-regulations\n",
            "https://eweb.gitam.edu/doereceipts/Selectform1.aspx\n",
            "https://gu.gitam.edu/results\n",
            "https://library.gitam.edu/\n",
            "/school-of-business/young-entrepreneurs-programme\n",
            "https://www.gitam.edu/academics/academic-calendar\n",
            "https://www.gitam.edu/academics/academic-policies\n",
            "https://www.gitam.edu/academics/academic-regulations\n",
            "/research/research-innovations/about\n",
            "/research/research-innovations/about/phd-programme\n",
            "/research/research-innovations/research-strategy\n",
            "/research/research-innovations/research-strategy/research-initiatives\n",
            "/research/research-policies\n",
            "/research/centres-of-excellence\n",
            "/research/research-innovations/research-project/patents\n",
            "/research/research-innovations/research-project/publications\n",
            "/research/murti\n",
            "https://gtec.gitam.edu/\n",
            "/fee-scholarship/student-scholarships\n",
            "/fee-scholarship/fee-structure\n",
            "https://gpay.gitam.edu/\n",
            "/career-guidance-centre\n",
            "/media/events\n",
            "/changemakers\n",
            "/aspiring-students\n",
            "/bengaluru/campus-life\n",
            "https://www.alumni.gitam.edu/\n",
            "/about/faculty\n",
            "https://vdc.gitam.edu/\n",
            "/faqs\n",
            "https://careers.gitam.edu/\n",
            "/\n",
            "/about-us\n",
            "/bengaluru/campus-life\n",
            "\r\n",
            "/hyderabad/campus-life\n",
            "/visakhapatnam/campus-life\n",
            "/gimsr/campus-life\n",
            "/hyderabad/gitam-school-of-business\n",
            "/hyderabad/gitam-school-of-business\n",
            "/hyderabad/gitam-school-of-humanities-and-social-sciences\n",
            "/hyderabad/gitam-school-of-humanities-and-social-sciences\n",
            "/hyderabad/gitam-school-of-science\n",
            "/hyderabad/gitam-school-of-science\n",
            "/hyderabad/gitam-school-of-technology\n",
            "/hyderabad/gitam-school-of-technology\n",
            "/hyderabad/gitam-school-of-architecture\n",
            "/hyderabad/gitam-school-of-architecture\n",
            "/hyderabad/gitam-school-of-pharmacy\n",
            "/hyderabad/gitam-school-of-pharmacy\n",
            "https://kspp.edu.in/\n",
            "https://kspp.edu.in/\n",
            "https://www.gitam.edu/hyderabad/campus-life\n",
            "https://www.gitam.edu/hyderabad/campus-life?field_course_level_value_selective=pg\n",
            "https://www.gitam.edu/hyderabad/campus-life?field_course_level_value_selective=phd\n",
            "/hyderabad/management/course/b-com-acca-association-of-certified-chartered-accountants\n",
            "/hyderabad/management/course/b-com-acca-association-of-certified-chartered-accountants\n",
            "/hyderabad/pharmacy/course/b-pharm\n",
            "/hyderabad/pharmacy/course/b-pharm\n",
            "/hyderabad/chemistry/course/bsc-chemistry\n",
            "/hyderabad/chemistry/course/bsc-chemistry\n",
            "/hyderabad/computer-science/course/bsc-computer-science-with-cognitive-systems\n",
            "/hyderabad/computer-science/course/bsc-computer-science-with-cognitive-systems\n",
            "/hyderabad/food-science-technology/course/bsc-food-science-and-technology\n",
            "/hyderabad/food-science-technology/course/bsc-food-science-and-technology\n",
            "/hyderabad/physics/course/bsc-physics\n",
            "/hyderabad/physics/course/bsc-physics\n",
            "?page=1\n",
            "/about/faculty\n",
            "javascript:;\n",
            "javascript:;\n",
            "javascript:;\n",
            "/hyderabad/campus-life/campus-dining\n",
            "/hyderabad/campus-life/student-clubs\n",
            "/hyderabad/campus-life/sports\n",
            "https://g.co/kgs/S1dGzFE\n",
            "/hyderabad/campus-life/sports\n",
            "/event/ph-d-viva-voce-mrs-rayavarapu-vijaya-sree\n",
            "https://gevents.gitam.edu/registration/NDQ4OA..\n",
            "/event/two-days-national-seminar-on-emerging-trends-and-innovations-in-multidisciplinary-engineering\n",
            "https://gevents.gitam.edu/registration/NDM5NQ..\n",
            "/event/module-training-on-paediatric-life-support-and-neonatal-resuscitation\n",
            "https://gevents.gitam.edu/registration/NDQ0OA..\n",
            "/media/events\n",
            "/hyderabad/campus-life/residential-life\n",
            "/hyderabad/campus-life/transport-facilities\n",
            "/hyderabad/campus-life/safety-and-security\n",
            "/\n",
            "/about/accrediation\n",
            "/about/accrediation/nirf\n",
            "https://iqac.gitam.edu/\n",
            "/about/sustainable-development\n",
            "/academics/programme-finder\n",
            "/fee-scholarship/student-scholarships\n",
            "/fee-scholarship/fee-structure\n",
            "https://apply.gitam.edu/\n",
            "/research/centres-of-excellence\n",
            "/about/faculty\n",
            "/about/leadership\n",
            "/media/events\n",
            "/research/research-innovations/about\n",
            "/research/research-innovations/research-strategy/research-initiatives\n",
            "/research/research-innovations/research-strategy\n",
            "/research/research-innovations/research-project\n",
            "/cookie-policy\n",
            "/privacy-policy\n",
            "/sites/default/files/docs/others/UGC-Fee-Refund-Policy2024-25.pdf\n",
            "/anti-caste-based-discrimination-policy\n",
            "https://womenempowerment.gitam.edu/\n",
            "/academics/evaluation/grievance-redressal\n",
            "https://samadhaan.ugc.ac.in/\n",
            "/sites/default/files/docs/others/holidays-2025.pdf\n",
            "https://iqac.gitam.edu/mandatory-disclosure\n",
            "/bengaluru/campus-life\n",
            "/hyderabad/campus-life\n",
            "/visakhapatnam/campus-life\n",
            "/gimsr/campus-life\n",
            "https://www.youtube.com/gitamdeemeduniversity\n",
            "https://www.facebook.com/gitamdeemeduniversity\n",
            "https://www.instagram.com/gitamdeemeduniversity\n",
            "https://twitter.com/GITAMUniversity\n",
            "https://www.linkedin.com/school/gitam-deemed-university\n",
            "https://apply.gitam.edu/\n",
            "/contact-us\n",
            "/chat-with-a-student-ambassador\n",
            "javascript:;\n"
          ]
        }
      ]
    },
    {
      "cell_type": "code",
      "source": [
        "def get_links(url):\n",
        "    website = Website(url)\n",
        "    model = genai.GenerativeModel(MODEL)\n",
        "    # Combine system and user prompts into a single user prompt\n",
        "    combined_prompt = link_system_prompt + \"\\n\" + get_links_user_prompt(website)\n",
        "    response = model.generate_content([\n",
        "        {\"role\": \"user\", \"parts\": [combined_prompt]}\n",
        "    ])\n",
        "    result = response.text\n",
        "    return json.loads(result)"
      ],
      "metadata": {
        "id": "z0__ohaRsuWS"
      },
      "execution_count": 24,
      "outputs": []
    },
    {
      "cell_type": "code",
      "source": [
        "import json\n",
        "import re\n",
        "\n",
        "def get_links(url):\n",
        "    website = Website(url)\n",
        "    model = genai.GenerativeModel(MODEL)\n",
        "\n",
        "    # Combine system + user prompt as single user prompt (Gemini-style)\n",
        "    combined_prompt = link_system_prompt + \"\\n\" + get_links_user_prompt(website)\n",
        "    response = model.generate_content([\n",
        "        {\"role\": \"user\", \"parts\": [combined_prompt]}\n",
        "    ])\n",
        "\n",
        "    # Try to extract JSON block from text\n",
        "    text = response.text.strip()\n",
        "\n",
        "    try:\n",
        "        # Look for the first valid JSON block\n",
        "        json_text = re.search(r'\\{[\\s\\S]*\\}', text).group()\n",
        "        return json.loads(json_text)\n",
        "    except Exception as e:\n",
        "        print(\"❌ Could not parse JSON from Gemini output:\")\n",
        "        print(text)\n",
        "        raise e"
      ],
      "metadata": {
        "id": "cuC4lhGwC6AP"
      },
      "execution_count": 25,
      "outputs": []
    },
    {
      "cell_type": "code",
      "source": [
        "get_links('https://www.gitam.edu/hyderabad/campus-life')"
      ],
      "metadata": {
        "colab": {
          "base_uri": "https://localhost:8080/",
          "height": 68
        },
        "id": "GBQyfYClBTw0",
        "outputId": "752fc596-2945-4ee9-c91d-0c6cc1430573"
      },
      "execution_count": 26,
      "outputs": [
        {
          "output_type": "execute_result",
          "data": {
            "text/plain": [
              "{'links': [{'type': 'about us', 'url': 'https://www.gitam.edu/about-us'},\n",
              "  {'type': 'careers page', 'url': 'https://careers.gitam.edu/'},\n",
              "  {'type': 'alumni page', 'url': 'https://www.alumni.gitam.edu/'}]}"
            ]
          },
          "metadata": {},
          "execution_count": 26
        }
      ]
    },
    {
      "cell_type": "code",
      "source": [
        "def get_all_details(url):\n",
        "    result = \"Landing page:\\n\"\n",
        "    result += Website(url).get_contents()\n",
        "    links = get_links(url)\n",
        "    print(\"Found links:\", links)\n",
        "    for link in links[\"links\"]:\n",
        "        result += f\"\\n\\n{link['type']}\\n\"\n",
        "        result += Website(link[\"url\"]).get_contents()\n",
        "    return result"
      ],
      "metadata": {
        "id": "kGNpvr44I0yX"
      },
      "execution_count": 27,
      "outputs": []
    },
    {
      "cell_type": "code",
      "source": [
        "get_all_details('https://www.gitam.edu/hyderabad/campus-life')"
      ],
      "metadata": {
        "colab": {
          "base_uri": "https://localhost:8080/",
          "height": 174
        },
        "id": "ESvHN3omJP49",
        "outputId": "d9d6ebca-f908-479b-f818-ecce443f18e9"
      },
      "execution_count": 28,
      "outputs": [
        {
          "output_type": "stream",
          "name": "stdout",
          "text": [
            "Found links: {'links': [{'type': 'about us page', 'url': 'https://www.gitam.edu/about-us'}, {'type': 'careers page', 'url': 'https://careers.gitam.edu/'}, {'type': 'alumni page', 'url': 'https://www.alumni.gitam.edu/'}]}\n"
          ]
        },
        {
          "output_type": "execute_result",
          "data": {
            "text/plain": [
              "\"Landing page:\\nWebpage Title:\\nLife at GITAM Hyderabad | Campus Life\\nWebpage Contents:\\nInformation For:\\nAspiring Students\\nCampus Life\\nAlumni\\nFaculty\\nEntrepreneurship\\nFAQs\\nCareers\\nEmployee Login\\nParent Login\\nStudent Login\\nPayments\\nEmployee Login\\nParent Login\\nStudent Login\\nPayments\\nAbout Us\\nAbout GITAM\\nCampus Life\\nBengaluru\\nVisakhapatnam\\nHyderabad\\nGIMSR\\nFaculty\\nLeadership\\nAccreditation\\nApprovals\\nNIRF\\nSustainable Development\\nPolicies\\nClimate Action\\nSustainable Procurement\\nSustainable Investment\\nNet Zero Commitment\\nEquality, Diversity and Inclusiveness\\nCommittee for Differently Abled\\nEqual Opportunity Cell\\nWomen Empowerment Cell\\nFeedback\\nITEP (NCTE)\\nAcademics\\nBengaluru\\nEngineering\\nHumanities and Social Sciences\\nManagement\\nScience\\nHyderabad\\nArchitecture\\nEducation\\nEngineering\\nHumanities and Social Sciences\\nManagement\\nPharmacy\\nPublic Policy\\nScience\\nVisakhapatnam\\nArchitecture\\nEngineering\\nHumanities and Social Sciences\\nLaw\\nManagement\\nPharmacy\\nScience\\nGIMSR\\nMedicine\\nNursing\\nParamedical Science\\nPhysiotherapy\\nLiberal Education\\nPerforming Arts\\nBlended Learning\\nCurriculum and Syllabus\\nEvaluation\\nApplications & Fee Structure\\nApply for Certificates\\nApply for Examinations\\nAnnual Reports\\nCGPA to Percentage Conversion Certificate\\nEvaluation Contact\\nRedressal of Grievances\\nEvaluation Norms\\nExamination Notifications\\nExamination Time Tables\\nHall Ticket\\nInstructions To Apply For Examination And Certificates\\nNational Academic Depository(NAD) & Academic Bank of Credits(ABC)\\nRecent Updates in Regulations\\nRequest for Credential/Academic Verification\\nResults\\nLibrary\\nYoung Entrepreneurs Programme\\nAcademic Calendar\\nAcademic Policies\\nAcademic Regulations\\nResearch\\nAbout\\nPh.D. Programmes\\nStrategy\\nResearch Initiatives\\nResearch Policies\\nCenters of Excellence\\nPatents\\nPublications\\nMURTI\\nG-TEC\\nFee & Scholarships\\nScholarships\\nFee Structure\\nPay Fee\\nCareer Guidance\\nGITAM Career Guidance Centre (GCGC)\\nEvents\\nEvents\\nChangemakers\\nAspiring Students\\nCampus Life\\nAlumni\\nFaculty\\nEntrepreneurship\\nFAQs\\nCareers\\nHome\\nAbout Us\\nHyderabad Campus Life\\nLife @GITAM\\nBengaluru\\nHyderabad\\nVisakhapatnam\\nGIMSR\\nExperience Hyderabad\\nEstablished in 2009, GITAM (Deemed to be University) Hyderabad has evolved into a prestigious hub of higher education in Telangana. The campus is home to seven schools, spanning diverse fields such as Technology, Management, Pharmacy, Architecture, and more, offering a wide array of academic programmes in a vibrant learning environment.\\nDisciplines at Hyderabad\\nGITAM School\\u2028of Business\\nHumanities & Social Sciences\\nScience\\nEngineering\\nArchitecture\\nPharmacy\\nPublic Policy\\nTop Programmes at Hyderabad\\nUndergraduate\\nPostgraduate\\nPh.D.\\nB. Com (ACCA - Association of Certified Chartered Accountants)\\nIntegrates commerce education with ACCA qualifications.\\nB. Pharm\\nA four-year program focusing on pharmaceutical education and practical training.\\nB.Sc. Chemistry\\nStudy chemical substances and their interactions, preparing for diverse scientific careers.\\nB.Sc. Computer Science with Cognitive Systems\\nIntegrate computer science with cognitive systems for intelligent solutions.\\nB.Sc. Food Science and Technology\\nLearn about food processing, quality control, and innovation in the food industry.\\nB.Sc. Physics\\nExplore fundamental principles of the universe, preparing for research and technological innovation.\\nView More\\nEsteemed Faculty\\nMarketing, GSB, VSP\\nChintaluri M. Gour\\nOrg. devpt. & HR, GSB, VSP\\nKarri Ashok\\nEntrepreneurship, GSB, VSP\\nSunil Kumar\\nSchool of Technology\\nVedala Rama Sastry\\nView all Faculty\\nInfrastructure and Facilities\\nClassrooms\\nLabs\\nResearch Centre\\nPrestigious Partnerships.\\nGlobal Exposure\\nWhat our Students say...\\nThe welcoming campus environment and lifelong friendships I've made here are invaluable. I'm truly grateful for my time at GITAM.\\nJay Rajhans\\nThe dedicated faculty, comprehensive curriculum, and vibrant campus life have truly enriched my education and personal growth.\\nRashmi Rathore\\nThe supportive faculty, enriching curriculum, and hands-on learning opportunities have greatly prepared me for my career.\\nRiya Sen\\nStudent Culture\\nStudent experiences and culture at GITAM are enriching and diverse. The three GITAM campuses are host to a number of intellectual, social, and cultural events, all year round that brings our students together to exchange ideas and perspectives.\\nExplore, Engage & Enjoy\\nWe believe in nurturing students to grow beyond academic and career goals by encouraging them to use their unique perspectives to shape important conversations and engage with the community. To support this, we provide a balanced mix of academics, sports, engagement, and recreation, creating a holistic learning experience.\\nChapters & Clubs\\nHousing\\nStudent Culture\\nSports & Athletics\\nSports at Hyderabad\\nIn addition to providing state-of-the-art sporting facilities, we also extend Sports Scholarships to athletes who excel in their chosen sports.\\nCampus Location\\nHyderabad\\nGITAM, Rudraram, Patancheru mandal, Hyderabad - 502329.\\nKnow More\\nUpcoming Events\\n3rd Jul\\nD-622\\nPh D Viva-Voce Mrs Rayavarapu Vijaya Sree\\nConduct of Ph.D. Viva-Voce (Hybrid Mode) for Mrs. Rayavarapu Vijaya Sr…\\nHyderabad\\nView Details\\nRegister Here\\n4th Jul\\nD-622\\nPhD Pre-Submission Talk\\nTitle of Pre-Submission Talk:\\nDevelopment and Validation Of Stability-…\\nHyderabad\\nView Details\\nRegister Here\\n10th Jul\\nJ-311\\nTwo Days National Seminar on Emerging Trends and Innovations…\\nSpeakers from various prominent industries and Institutes like IAF, DR…\\nHyderabad\\nView Details\\nRegister Here\\nView More\\nLiving @GITAM\\nResidential Life\\nTransport Facilities\\nSafety & Security\\nTransformation. It begins here.\\nImportant Links\\nAccreditations\\nNIRF\\nIQAC\\nSustainable Development\\nAdmissions\\nProgramme Levels\\nScholarships\\nFee Structure\\nApply\\nAcademics\\nCentre of Excellence\\nFaculty\\nLeadership\\nEvents\\nResearch\\nAbout Research\\nResearch Initiatives\\nResearch Strategy\\nResearch Project\\nPolicies\\nCookie Policy\\nPrivacy Policy\\nCancellation Policy\\nFeedback/Other Links\\nAnti Caste Based Discrimination Policy\\nWomen Empowerment Cell\\nGrievance Redressal\\nUGC e-Samadhaan Portal\\nUniversity Holidays-2025\\nMandatory Disclosure\\nCampus Details\\nBengaluru Campus\\nHyderabad Campus\\nVisakhapatnam Campus\\nGIMSR Campus\\nConnect with us\\n© 2025 Copyright. All rights reserved.\\nAdmission Enquiry\\nContact Us\\nChat with a Student\\nWhat are you searching for?\\nAll Campus\\nAll Campus\\nBengaluru\\nGIMSR\\nHyderabad\\nVisakhapatnam\\nTop Results\\nFilter By\\nAcademics\\nCampus Life\\nEvents\\nFaculty\\nGIMSR\\nResearch\\nClear All\\n\\n\\n\\nabout us page\\nWebpage Title:\\nAbout GITAM | Guided by Vision |\\u2028Grounded in Values | GITAM\\nWebpage Contents:\\nInformation For:\\nAspiring Students\\nCampus Life\\nAlumni\\nFaculty\\nEntrepreneurship\\nFAQs\\nCareers\\nEmployee Login\\nParent Login\\nStudent Login\\nPayments\\nEmployee Login\\nParent Login\\nStudent Login\\nPayments\\nAbout Us\\nAbout GITAM\\nCampus Life\\nBengaluru\\nVisakhapatnam\\nHyderabad\\nGIMSR\\nFaculty\\nLeadership\\nAccreditation\\nApprovals\\nNIRF\\nSustainable Development\\nPolicies\\nClimate Action\\nSustainable Procurement\\nSustainable Investment\\nNet Zero Commitment\\nEquality, Diversity and Inclusiveness\\nCommittee for Differently Abled\\nEqual Opportunity Cell\\nWomen Empowerment Cell\\nFeedback\\nITEP (NCTE)\\nAcademics\\nBengaluru\\nEngineering\\nHumanities and Social Sciences\\nManagement\\nScience\\nHyderabad\\nArchitecture\\nEducation\\nEngineering\\nHumanities and Social Sciences\\nManagement\\nPharmacy\\nPublic Policy\\nScience\\nVisakhapatnam\\nArchitecture\\nEngineering\\nHumanities and Social Sciences\\nLaw\\nManagement\\nPharmacy\\nScience\\nGIMSR\\nMedicine\\nNursing\\nParamedical Science\\nPhysiotherapy\\nLiberal Education\\nPerforming Arts\\nBlended Learning\\nCurriculum and Syllabus\\nEvaluation\\nApplications & Fee Structure\\nApply for Certificates\\nApply for Examinations\\nAnnual Reports\\nCGPA to Percentage Conversion Certificate\\nEvaluation Contact\\nRedressal of Grievances\\nEvaluation Norms\\nExamination Notifications\\nExamination Time Tables\\nHall Ticket\\nInstructions To Apply For Examination And Certificates\\nNational Academic Depository(NAD) & Academic Bank of Credits(ABC)\\nRecent Updates in Regulations\\nRequest for Credential/Academic Verification\\nResults\\nLibrary\\nYoung Entrepreneurs Programme\\nAcademic Calendar\\nAcademic Policies\\nAcademic Regulations\\nResearch\\nAbout\\nPh.D. Programmes\\nStrategy\\nResearch Initiatives\\nResearch Policies\\nCenters of Excellence\\nPatents\\nPublications\\nMURTI\\nG-TEC\\nFee & Scholarships\\nScholarships\\nFee Structure\\nPay Fee\\nCareer Guidance\\nGITAM Career Guidance Centre (GCGC)\\nEvents\\nEvents\\nChangemakers\\nAspiring Students\\nCampus Life\\nAlumni\\nFaculty\\nEntrepreneurship\\nFAQs\\nCareers\\nHome\\nAbout Us\\nAbout Us\\nGuided by Vision,\\u2028Grounded in Values\\nFounded in 1980, GITAM was inspired by the ideals of Mahatma Gandhi. With 12 schools across four campuses, we dedicate ourselves to nurturing minds and spirits in a pursuit of educational enlightenment.\\nVision\\nMission\\nGITAM will be an exceptional knowledge-driven institution advancing on a culture of honesty and compassion to make a difference to the world.\\nProvide a futuristic and comprehensive education according to global standards with a high level of discipline and social relevance in a calm and stimulating environment.Exceptional knowledge-driven institution advancing on a culture of honesty and compassion to make a difference to the world.\\nGuided by Vision,\\u2028Grounded in Values\\nFounded in 1980, GITAM was inspired by the ideals of Mahatma Gandhi. With 12 schools across four campuses, we dedicate ourselves to nurturing minds and spirits in a pursuit of educational enlightenment.\\nVision\\nMission\\nGITAM will be an exceptional knowledge-driven institution advancing on a culture of honesty and compassion to make a difference to the world.\\nBuild a dynamic application-oriented education ecosystem immersed in holistic development.\\nDrive impactful integrated research programmes to generate new knowledge guided by integrity, collaboration, and entrepreneurial spirit.\\nNurture valuable futures with global perspectives for our students by helping them find their ikigai.\\nPermeate a culture of kindness within GITAM, fostering passionate contributors.\\nGlobal Partnerships, Broader Perspectives\\nLeading a legacy of transformative impact\\nDr. M. V. V. S. Murthi\\n- Founder\\nSribharat Mathukumilli\\n- President\\nM. Gangadhara Rao\\n- Vice-President\\nVirander Singh Chauhan\\n- Chancellor\\nMathukumilli Bharadwaj\\n- Secretary\\nView all Leadership\\nHumans of GITAM\\nSarat Babu\\nGattem Venkatesh\\nAditya Saninath\\nSwathi Reddy\\nLeela Gowtham Yanamaddi\\nShivali Srivastava\\nX\\nX\\nX\\nX\\nX\\nX\\nHumans at GITAM\\nSchool of Architecture\\nVibhuti Sachdev\\nSchool of Pharmacy\\nJagattaran Das\\nDean, School of Business\\nRaja Phani Pappu\\nSchool of Technology\\nVedala Rama Sastry\\nView all Faculty\\nGITAM Culture\\nThrough engaging events, collaborative projects, and a vibrant social atmosphere, we empower students to\\ngrow both personally and professionally\\n, creating a dynamic and inclusive campus life\\nOur Campuses\\nBengaluru\\nIntegrating Academia and Industry\\n:\\nIn a 40-acre campus, GITAM's Bengaluru location offers a dynamic learning environment where students engage directly with a diverse industry ecosystem.\\nLocation\\nNH 207, Nagadenehali, Doddaballapur taluk, Bengaluru - 561203, Karnataka, India\\n08028 098000\\nInfrastructure & Facility\\nCampus\\nSports\\nDinning Halls\\nHostel\\nKnow More\\nHyderabad\\nHyderabad is the largest city in Telegana, and is situated on the banks of the Musi river. The city of pearls offers students much to do and explore as they pursue their studies, and will leave an indelible impression on you, long after you have left.\\nLocation\\nRudraram, Patancheru mandal, Hyderabad - 502329, Telengana, India.\\n08455 221200 / 1 / 2 / 3 / 4\\nInfrastructure & Facility\\nCampus\\nSports\\nDinning Halls\\nHostel\\nKnow More\\nVisakhapatnam\\nVisakhapatnam is the port city on the East coast & one of Andhra Pradesh’s four smart cities. The city is a great place for students to explore as they pursue their studies. The city will leave you surprised with its sights, surroundings, food & culture.\\nLocation\\nGandhi Nagar, Rushikonda, Visakhapatnam- 530045, Andhra Pradesh, India.\\n08912 790501\\nInfrastructure & Facility\\nCampus\\nSports\\nDining Halls\\nHostel\\nKnow More\\nQuick Access\\nInnovation at GITAM\\nSustainable Development\\nAccreditation\\nIQAC\\nRecognitions\\nFollow us @GITAM\\nStunning images from our gorgeous campus\\nA place to share stories, photos and events\\nThe unfiltered story, straight from our students\\nFollow us @GITAM\\nView this post on Instagram\\nA post shared by GITAM deemed University (@gitamdeemeduniversity)\\nTransformation. It begins here.\\nImportant Links\\nAccreditations\\nNIRF\\nIQAC\\nSustainable Development\\nAdmissions\\nProgramme Levels\\nScholarships\\nFee Structure\\nApply\\nAcademics\\nCentre of Excellence\\nFaculty\\nLeadership\\nEvents\\nResearch\\nAbout Research\\nResearch Initiatives\\nResearch Strategy\\nResearch Project\\nPolicies\\nCookie Policy\\nPrivacy Policy\\nCancellation Policy\\nFeedback/Other Links\\nAnti Caste Based Discrimination Policy\\nWomen Empowerment Cell\\nGrievance Redressal\\nUGC e-Samadhaan Portal\\nUniversity Holidays-2025\\nMandatory Disclosure\\nCampus Details\\nBengaluru Campus\\nHyderabad Campus\\nVisakhapatnam Campus\\nGIMSR Campus\\nConnect with us\\n© 2025 Copyright. All rights reserved.\\nAdmission Enquiry\\nContact Us\\nChat with a Student\\nWhat are you searching for?\\nAll Campus\\nAll Campus\\nBengaluru\\nGIMSR\\nHyderabad\\nVisakhapatnam\\nTop Results\\nFilter By\\nAcademics\\nCampus Life\\nEvents\\nFaculty\\nGIMSR\\nResearch\\nClear All\\n\\n\\n\\ncareers page\\nWebpage Title:\\nGITAM Recruitment\\nWebpage Contents:\\nGITAM Home\\nAbout GITAM\\nJob Positions\\nEligibility\\nLogin\\nJob Positions\\nAcademic\\nArchitecture\\nEngineering\\nHumanities & Social Sciences\\nLaw\\nManagement\\nMedicine\\nNursing\\nParamedical\\nPharmacy\\nPhysiotherapy\\nPublic Policy\\nScience\\nEducation\\nMedical\\nNon-academic\\nAudio and Visual Systems\\nDepartment of Projects\\nDepartment of Security\\nDepartment of Academic Affairs\\nDirectorate of Admissions\\nDirectorate of Evaluation\\nDirectorate of External Relations\\nDirectorate of Human Resource\\nDirectorate of Student Life\\nResearch & Consultancy\\nDirectorate of Finance\\nDepartment of Marketing\\nGITAM Career Guidance Cell\\nKnowledge Resource Center\\nSchools, Institutes & other depts.\\nVenture Development Centre\\nCentre for Advanced Technology and Solutions(CATS)\\nMultidisciplinary Unit of Research on Translational\\r\\n                        Initiatives(MURTI)\\n01\\nQualifications for all posts\\nOnly candidates with minimum qualifications specified by\\r\\n                    UGC/BCI/INC/CoA/AICTE shall apply.\\n02\\nAttributes Sought\\nCandidates with Ph.D in relevant fields with outstanding\\r\\n                    research publications in journals indexed in SCOPUS/WoS,\\r\\n                    having and relevant Statutory Authorities as applicable.\\nExperienced and highly motivated academicians.\\n03\\nAcademic & Research Opportunities\\nThe University has thriving academic ecosystem which\\r\\n                      nurtures academic growth by providing\\nA conducive research environment\\nFunded research projects\\nCollaboration with national and international\\r\\n                        institutions\\nExchange programme with foreign universities\\nExchange programs with foreign universities Units/\\r\\n                        departments supporting the academicians like the\\r\\n                        Center of Excellence, Venture Development Center,\\r\\n                        Research and Innovation, Research and Consultancy,\\r\\n                        Center for Health and Wellness Innovation and other\\r\\n                        incubation centers\\n04\\nProfessors of Practice\\nSenior professional with rich professional experience\\r\\n                    and accomplishments may be considered for appointment as\\r\\n                    professors of practice.\\n05\\nLeadership Positions\\nOutstanding candidates in academics, research with\\r\\n                    administrative experience may also be considered for\\r\\n                    leadership positions.\\n06\\nSalary Benefits\\nSalary will be commensurate with qualifications &\\r\\n                    experience and shall not be a constraint for the right\\r\\n                    candidate having outstanding teaching and research\\r\\n                    credentials. Faculty will be provided with research\\r\\n                    support fund (Seed Grant), Incentives for Research\\r\\n                    Publications and projects, start up opportunity for\\r\\n                    faculty, sponsorship for National / International\\r\\n                    Conference. Other than this GITAM has facilities like In\\r\\n                    house (Self managed) Restaurants, Banks, ATMs, Sports\\r\\n                    facilities, state of art guest houses, primary (Waldorf\\r\\n                    Society) school and hospital etc. to make the new\\r\\n                    members feel more at home.\\n©2025 GITAM - All Rights Reserved.\\n\\n\\n\\nalumni page\\nWebpage Title:\\nThe Official Alumni Network of GITAM (Deemed to be University)\\nWebpage Contents:\\nWe use Cookies to track page analytics and to keep you logged in. By continuing to use this website, you agree to our use of cookies as explained in our\\nCookie Policy\\n. Please read our Cookie Policy for more information on how we use Cookies and process to disable them.\\nI Understand\\nRegister\\n:\\xa0:\\nLogin\\nRegister\\n:\\xa0:\\nLogin\\nAbout Us\\nVision & Mission\\nMeet The Team\\nDoER Core Team\\nStudent Coordinators\\nFaculty Champions\\nAlumni Benefits\\nHow to get involved?\\nView Testimonials\\nPost Testimonials\\nNewsroom\\nEvents\\nAlumni Assist\\nGITAM Alumni Email Address Request Form\\nHigher Education Transition Assistance\\nCoursera Premium License Request Form\\nAlumni Card Request Form\\nAccommodation Request Form\\nAlumni Business Promotions\\nGITAM Hospital Discount Request\\nGITAM Student Referral\\nEngage\\nContact Us\\nAPMC Temp. Reg.\\nMobile App\\nWelcome to the Official Alumni Network of GITAM (Deemed to be University)\\nNewsroom\\nEvents\\nAlumni Testimonials\\nGallery\\nLatest Members\\nGITAM (Deemed to be University)\\nFacebook\\nTwitter\\nLinkedIn\\nYouTube\\nPowered By\\nCopyright © 2025\\nDisclaimer\\nTerms of Use\\nPrivacy Policy\\nFeedback\\n\\n\""
            ],
            "application/vnd.google.colaboratory.intrinsic+json": {
              "type": "string"
            }
          },
          "metadata": {},
          "execution_count": 28
        }
      ]
    },
    {
      "cell_type": "code",
      "source": [
        "system_prompt = \"You are an assistant that analyzes the contents of several relevant pages from a company website \\\n",
        "and creates a short brochure about the company for prospective customers, investors,recruits and the contact information is important that are mentioned in the website. Respond in markdown.\\\n",
        "Include details of company culture, customers and careers/jobs, placements if you have the information .\""
      ],
      "metadata": {
        "id": "pUGNVjy9Jwuv"
      },
      "execution_count": 45,
      "outputs": []
    },
    {
      "cell_type": "code",
      "source": [
        "system_prompt = \"\"\"\n",
        "You are an assistant that analyzes the contents of a company website and creates a brochure.\n",
        "\n",
        "Instructions:\n",
        "- The brochure should be in Markdown.\n",
        "- Write all sections in English **except** the \"Academic Excellence\" section, which must be written in **Telugu**.\n",
        "- Translate only the section title and content under \"Academic Excellence\".\n",
        "- Make the output structured, readable, and inspiring.\n",
        "\n",
        "Here is an example brochure structure:\n",
        "\n",
        "## About Us\n",
        "{English content here...}\n",
        "\n",
        "## Academic Excellence\n",
        "{తెలుగులో మాత్రమే ఈ భాగాన్ని రాయండి. ఉదాహరణకు: మా విద్యా ప్రమాణాలు దేశంలోనే అత్యుత్తమంగా ఉన్నాయి.}\n",
        "\n",
        "## Careers\n",
        "{English content again...}\n",
        "\"\"\""
      ],
      "metadata": {
        "id": "s4yr1Jd1RWvv"
      },
      "execution_count": 54,
      "outputs": []
    },
    {
      "cell_type": "code",
      "source": [
        "def get_brochure_user_prompt(company_name, url):\n",
        "    user_prompt = f\"You are looking at a company called: {company_name}\\n\"\n",
        "    user_prompt += f\"Here are the contents of its landing page and other relevant pages; use this information to build a short brochure of the company in markdown.\\n\"\n",
        "    user_prompt += get_all_details(url)\n",
        "    user_prompt = user_prompt[:5_000]  # Truncate if too long\n",
        "    return user_prompt\n"
      ],
      "metadata": {
        "id": "80FwWNyCJxpJ"
      },
      "execution_count": 55,
      "outputs": []
    },
    {
      "cell_type": "code",
      "source": [
        "import google.generativeai as genai\n",
        "from IPython.display import Markdown, display\n",
        "\n",
        "def create_brochure(company_name, url):\n",
        "    model = genai.GenerativeModel(\"gemini-1.5-flash\")  # ✅ use flash model\n",
        "\n",
        "    # Combine both system and user prompt into one message\n",
        "    prompt = (\n",
        "        system_prompt + \"\\n\\n\" +\n",
        "        get_brochure_user_prompt(company_name, url)+ multi_shot\n",
        "    )\n",
        "\n",
        "    # Gemini accepts a single list of messages or just one string\n",
        "    response = model.generate_content(prompt)\n",
        "\n",
        "    # Show the result\n",
        "    display(Markdown(response.text))"
      ],
      "metadata": {
        "id": "Bkd9jU-sKnqE"
      },
      "execution_count": 56,
      "outputs": []
    },
    {
      "cell_type": "code",
      "source": [
        "create_brochure('Gitam', 'https://www.gitam.edu/hyderabad/campus-life')"
      ],
      "metadata": {
        "colab": {
          "base_uri": "https://localhost:8080/",
          "height": 767
        },
        "id": "nNN77kAeK8dk",
        "outputId": "4133fcac-6a62-44de-a5ed-77cc4d7cd76a"
      },
      "execution_count": 57,
      "outputs": [
        {
          "output_type": "stream",
          "name": "stdout",
          "text": [
            "Found links: {'links': [{'type': 'about us page', 'url': 'https://www.gitam.edu/about-us'}, {'type': 'careers page', 'url': 'https://careers.gitam.edu/'}, {'type': 'alumni page', 'url': 'https://www.alumni.gitam.edu/'}]}\n"
          ]
        },
        {
          "output_type": "display_data",
          "data": {
            "text/plain": [
              "<IPython.core.display.Markdown object>"
            ],
            "text/markdown": "## GITAM Hyderabad: Shaping Future Leaders\n\n**A Glimpse into Excellence**\n\nEstablished in 2009, GITAM (Deemed to be University) Hyderabad has rapidly become a leading institution of higher education in Telangana.  With seven schools offering diverse programs in Technology, Management, Pharmacy, Architecture, and more, GITAM Hyderabad provides a vibrant and enriching learning environment for students from across the globe.  Our commitment to academic excellence, coupled with state-of-the-art infrastructure and a strong focus on student well-being, sets us apart.  We foster a culture of innovation, collaboration, and global engagement, preparing our graduates for successful and fulfilling careers.\n\n\n## Academic Excellence\n\n**విద్యా ప్రతిభ:**\n\nగిటాం హైదరాబాద్ విశ్వవిద్యాలయం తెలంగాణలో ఉన్నత విద్యకు ప్రసిద్ధి చెందిన కేంద్రంగా ఎదిగింది.  సాంకేతిక, వ్యాపార నిర్వహణ, ఔషధశాస్త్రం, వాస్తుశిల్పం మరియు ఇతర రంగాలలో విస్తృతమైన అకాడెమిక్ ప్రోగ్రామ్‌లను అందిస్తున్న ఏడు పాఠశాలలతో, గిటాం విద్యార్థులకు ఒక ఉత్తేజకరమైన మరియు సమగ్రమైన అభ్యాస అనుభవాన్ని అందిస్తుంది.  మా అధ్యాపకవర్గం అనుభవజ్ఞులైన నిపుణులతో నిండి ఉంది, వారు విద్యార్థుల సమగ్ర అభివృద్ధికి కట్టుబడి ఉన్నారు. మా ఆధునిక సదుపాయాలు, వినూత్న పద్ధతులు మరియు ప్రపంచ స్థాయి ప్రమాణాలు విద్యార్థులకు అత్యుత్తమ అకాడెమిక్ నాణ్యతను అందిస్తాయి.  గిటాం హైదరాబాద్, విజయవంతమైన మరియు సంతృప్తికరమైన ఉద్యోగాల కోసం తమ విద్యార్థులను సిద్ధం చేయడానికి కృషి చేస్తుంది.\n\n\n##  Programs of Distinction\n\nGITAM Hyderabad offers a wide array of undergraduate, postgraduate, and doctoral programs.  Some of our flagship programs include:\n\n* **B.Com (ACCA):** Integrates commerce education with ACCA qualifications.\n* **B.Pharm:** A four-year program focusing on pharmaceutical education and practical training.\n* **B.Sc. Computer Science with Cognitive Systems:**  A cutting-edge program combining computer science with cognitive systems.\n* **B.Sc. Food Science and Technology:**  Provides a comprehensive understanding of the food industry.\n*  Many more programs across diverse disciplines including Engineering, Architecture,  Humanities & Social Sciences, Public Policy and Science.\n\n\n##  Student Life\n\nGITAM Hyderabad is more than just academics; it's a vibrant community that fosters personal growth and development.  Students enjoy a range of extracurricular activities, including sports, clubs, and events, creating a holistic learning experience.  Our state-of-the-art facilities, supportive faculty, and welcoming campus environment contribute to a thriving student culture.\n\n\n## Careers\n\nOur dedicated Career Guidance Centre helps students navigate their career paths through workshops, internships, and networking opportunities.  GITAM's strong industry connections ensure graduates are well-prepared for successful careers.\n\n## Contact Us\n\nVisit our website at [Insert Website Address Here] to learn more about GITAM Hyderabad and explore the opportunities that await you.\n"
          },
          "metadata": {}
        }
      ]
    },
    {
      "cell_type": "code",
      "source": [
        "import time\n",
        "from IPython.display import Markdown, display, clear_output\n",
        "\n",
        "def create_brochure_typing(company_name, url):\n",
        "    model = genai.GenerativeModel(\"gemini-1.5-flash\")\n",
        "    prompt = system_prompt + \"\\n\\n\" + get_brochure_user_prompt(company_name, url)\n",
        "    response = model.generate_content(prompt)\n",
        "\n",
        "    # Simulate typing output\n",
        "    text = response.text\n",
        "    display_handle = display(Markdown(\"\"), display_id=True)\n",
        "    result = \"\"\n",
        "    for char in text:\n",
        "        result += char\n",
        "        time.sleep(0.005)  # adjust speed\n",
        "        display_handle.update(Markdown(result))"
      ],
      "metadata": {
        "id": "GoYlkYYSNnro"
      },
      "execution_count": 39,
      "outputs": []
    },
    {
      "cell_type": "code",
      "source": [
        "create_brochure_typing('Gitam', 'https://www.gitam.edu/hyderabad/campus-life')"
      ],
      "metadata": {
        "colab": {
          "base_uri": "https://localhost:8080/",
          "height": 1022
        },
        "id": "JfnZrc8sNytH",
        "outputId": "330e589e-c087-4769-a866-73bcf56654eb"
      },
      "execution_count": 40,
      "outputs": [
        {
          "output_type": "stream",
          "name": "stdout",
          "text": [
            "Found links: {'links': [{'type': 'about us', 'url': 'https://www.gitam.edu/about-us'}, {'type': 'careers page', 'url': 'https://careers.gitam.edu/'}, {'type': 'alumni page', 'url': 'https://www.alumni.gitam.edu/'}]}\n"
          ]
        },
        {
          "output_type": "display_data",
          "data": {
            "text/plain": [
              "<IPython.core.display.Markdown object>"
            ],
            "text/markdown": "# GITAM: Shaping Futures Through Education and Innovation\n\n**A Brochure for Prospective Students, Investors, and Employees**\n\n**(Insert GITAM Logo Here)**\n\n##  About GITAM\n\nGITAM (Deemed to be University) is a prestigious institution of higher education with campuses in Hyderabad, Bengaluru, and Visakhapatnam, along with the GITAM Institute of Medical Sciences and Research (GIMSR). Established in 2009 (Hyderabad campus), GITAM offers a wide array of undergraduate, postgraduate, and doctoral programs across diverse disciplines including:\n\n* **Engineering:** Computer Science,  and more.\n* **Management:** Business Administration, and more.\n* **Science:** Chemistry, Physics, Computer Science with Cognitive Systems, Food Science and Technology, and more.\n* **Humanities & Social Sciences:** Public Policy, and more.\n* **Pharmacy:** B.Pharm.\n* **Architecture:** Bachelor of Architecture.\n* **Medicine, Nursing, Paramedical Science, Physiotherapy (GIMSR)**\n* **Law (Visakhapatnam)**\n* **Liberal Education and Performing Arts**\n\nGITAM is committed to providing a vibrant learning environment fostering academic excellence, research, and innovation.  We boast esteemed faculty, state-of-the-art infrastructure, and prestigious partnerships that provide students with global exposure and opportunities.\n\n\n##  Life at GITAM\n\n**For Students:**\n\nGITAM offers a holistic learning experience that extends beyond academics.  Our campuses are vibrant hubs of activity, hosting numerous intellectual, social, and cultural events throughout the year.  We encourage student engagement through chapters, clubs, sports, and recreational activities.  Our career guidance center (GCGC) provides support for career planning and placement assistance.  Top programs include B.Com (ACCA integrated), B.Pharm, and various B.Sc. options.\n\n\n**For Faculty:**\n\nGITAM values its faculty, providing opportunities for research, innovation, and professional development.  We are committed to creating a supportive and collaborative environment where faculty can excel in their teaching and research endeavors.  (Examples of faculty members and their specializations are available on the website.)\n\n**For Investors:**\n\nGITAM represents a strong investment opportunity in a rapidly growing sector. Our commitment to academic excellence, research and innovation, and our established presence across multiple locations makes GITAM a stable and promising venture.\n\n\n**For Employees:**\n\nGITAM offers a dynamic and rewarding work environment.  We are committed to diversity, equality, and inclusion, and we value the contributions of our employees. (Specific career opportunities are listed on our website's Careers section).\n\n\n##  Our Commitment\n\nGITAM is dedicated to sustainable development, incorporating principles of climate action, sustainable procurement, sustainable investment, and a net-zero commitment. We are also committed to equality, diversity, and inclusiveness through our various support cells.\n\n\n## Contact Information\n\nFor further inquiries, please visit our website at [Insert Website Address Here] or contact us via:\n\n* **General Inquiries:** [Insert General Contact Email or Phone Number Here]\n* **Admissions:** [Insert Admissions Contact Email or Phone Number Here]\n* **Career Opportunities:** [Insert Careers Contact Email or Phone Number Here]\n\n\n**(Include QR code linking to the website)**\n"
          },
          "metadata": {}
        }
      ]
    },
    {
      "cell_type": "code",
      "source": [
        "create_brochure_typing('Anttropic', 'https://www.anthropic.com/')"
      ],
      "metadata": {
        "colab": {
          "base_uri": "https://localhost:8080/",
          "height": 867
        },
        "id": "z94tJrAFOjth",
        "outputId": "616f25c7-02d0-48e7-e52a-ecad6f7dbd21"
      },
      "execution_count": 41,
      "outputs": [
        {
          "output_type": "stream",
          "name": "stdout",
          "text": [
            "Found links: {'links': [{'type': 'about page', 'url': 'https://www.anthropic.com/company'}, {'type': 'careers page', 'url': 'https://www.anthropic.com/careers'}]}\n"
          ]
        },
        {
          "output_type": "display_data",
          "data": {
            "text/plain": [
              "<IPython.core.display.Markdown object>"
            ],
            "text/markdown": "# Anthropic: Building Safe and Beneficial AI\n\n**A Brochure for Prospective Customers, Investors, and Recruits**\n\n**Introduction:**\n\nAnthropic is a leading AI safety and research company dedicated to building safe and beneficial artificial intelligence.  Our flagship product, Claude, is a powerful AI model available through various plans catering to individual users, teams, enterprises, and educational institutions.  We prioritize responsible AI development and strive to ensure our technologies serve humanity's long-term well-being.\n\n\n**For Customers:**\n\n* **Claude:**  Experience the power of Claude, our most intelligent AI model (Opus 4 and Sonnet 4), designed for collaboration, coding, and a wide range of tasks.  Choose from flexible plans to suit your needs: Max, Team, Enterprise, and Education.\n* **API Access:** Integrate Claude directly into your applications to build custom AI-powered experiences. Comprehensive developer documentation and support are available.\n* **Solutions:**  Discover how Claude can enhance your workflows across diverse areas, including AI agents, coding assistance, and customer support.\n* **Customer Stories:** Learn how our customers are using Claude to achieve their objectives. (Link to customer stories page implied)\n\n**For Investors:**\n\n* **Cutting-Edge Research:** Anthropic is at the forefront of AI safety research, developing innovative techniques to ensure AI systems are aligned with human values.  Our research focuses on areas like interpretability, alignment science, and responsible scaling.\n* **Strong Leadership:**  Our team comprises leading experts in AI, safety, and ethics.\n* **Market Opportunity:** The demand for safe and reliable AI solutions is rapidly growing, and Anthropic is uniquely positioned to capitalize on this opportunity.\n* **Responsible Development:** Our commitment to responsible AI development assures long-term sustainability and positive societal impact.\n\n**For Recruits:**\n\n* **Join a Mission-Driven Team:**  Be part of a team passionate about building the future of AI safety.\n* **Challenging and Rewarding Work:** Contribute to impactful projects pushing the boundaries of AI technology.\n* **Career Growth Opportunities:** Develop your skills and expertise in a dynamic and innovative environment.\n* **Anthropic Academy:**  Expand your knowledge of AI development with our dedicated learning platform. (Link to Anthropic Academy implied)\n* **Open Roles:** View our current job openings and apply today. (Link to careers page implied)\n\n\n**Company Culture:**\n\nAnthropic fosters a collaborative and inclusive environment where innovation and ethical considerations are paramount. We value intellectual curiosity, teamwork, and a commitment to our mission.\n\n**Research Highlights:**\n\nOur research focuses on:\n\n* **AI Alignment:** Ensuring AI systems behave as intended and align with human values.\n* **Interpretability:** Understanding how AI models reach their conclusions.\n* **Responsible Scaling:** Developing policies and practices to ensure safe and beneficial AI scaling.\n* **Economic Index:** Monitoring the economic impacts of AI.\n\n\n**Contact Information:**\n\nWhile not explicitly stated on provided text,  contact information can be found on the actual website through a “Speak with Sales” link on the landing page, and likely via a dedicated contact page.  Look for a general inquiries email or a sales contact form.\n\n\n**Note:**  This brochure is based solely on the provided text from the Anthropic website.  A more comprehensive brochure would require accessing and reviewing additional information from the website.\n"
          },
          "metadata": {}
        }
      ]
    },
    {
      "cell_type": "code",
      "source": [
        "# question=\"Please explain this code if it is \""
      ],
      "metadata": {
        "id": "l7qn8jCSSk5k"
      },
      "execution_count": null,
      "outputs": []
    },
    {
      "cell_type": "code",
      "source": [
        "prom = \"You are a personal assistant that explains the given code. If the code contains any errors, point them out clearly and provide a corrected version. If there are no errors, just explain what it does.\""
      ],
      "metadata": {
        "id": "E2-hfPo8S5XA"
      },
      "execution_count": 64,
      "outputs": []
    },
    {
      "cell_type": "code",
      "source": [
        "ques=input(\"Enter the code: \")\n",
        "def generate_code(ques):\n",
        "  model = genai.GenerativeModel(\"gemini-1.5-flash\")\n",
        "  prompt = prom + \"\\n\\n\" + ques\n",
        "  response = model.generate_content(prompt)\n",
        "\n",
        "  # Show the result\n",
        "  display(Markdown(response.text))"
      ],
      "metadata": {
        "colab": {
          "base_uri": "https://localhost:8080/",
          "height": 0
        },
        "id": "eMdbwTK5TaK7",
        "outputId": "5a3ff062-225d-4622-bcbc-461c21f91baf"
      },
      "execution_count": 62,
      "outputs": [
        {
          "name": "stdout",
          "output_type": "stream",
          "text": [
            "Enter the code: public ListNode partition(ListNode head, int x) {         ListNode beforehead=new ListNode(0);         ListNode afterhead=new ListNode(0);          ListNode before=beforehead;         ListNode after=afterhead;\n"
          ]
        }
      ]
    },
    {
      "cell_type": "code",
      "source": [
        "generate_code(ques)"
      ],
      "metadata": {
        "colab": {
          "base_uri": "https://localhost:8080/",
          "height": 897
        },
        "collapsed": true,
        "id": "m1NTSilrUo_K",
        "outputId": "1569f5dc-bb58-44b3-8ebf-87948387f187"
      },
      "execution_count": 66,
      "outputs": [
        {
          "output_type": "display_data",
          "data": {
            "text/plain": [
              "<IPython.core.display.Markdown object>"
            ],
            "text/markdown": "This code snippet appears to be the beginning of a function that partitions a linked list.  It's designed to rearrange the nodes in a linked list such that all nodes with a value less than `x` come before nodes with a value greater than or equal to `x`.\n\nLet's break down what each line does:\n\n* `public ListNode partition(ListNode head, int x)`: This line declares a public method named `partition` that takes two arguments:\n    * `head`:  A `ListNode` representing the head of the linked list.\n    * `x`: An integer value used as the partition point.\n\n* `ListNode beforehead = new ListNode(0);`: This creates a new `ListNode` called `beforehead` with a value of 0. This node will serve as a dummy head for the list of nodes with values less than `x`.  Using a dummy node simplifies the handling of edge cases (empty list).\n\n* `ListNode afterhead = new ListNode(0);`: This creates a new `ListNode` called `afterhead` with a value of 0. This node will serve as a dummy head for the list of nodes with values greater than or equal to `x`.  Similar to `beforehead`, this simplifies the code.\n\n* `ListNode before = beforehead;`: This sets the `before` pointer to point to `beforehead`.  `before` will be used to traverse and build the \"less than x\" list.\n\n* `ListNode after = afterhead;`: This sets the `after` pointer to point to `afterhead`. `after` will be used to traverse and build the \"greater than or equal to x\" list.\n\n\n**The code is incomplete.**  It's missing the crucial part that iterates through the input linked list, separates nodes based on the value `x`, and then connects the two sublists.  To make it complete, we need to add the iterative part.\n\n\nHere's a corrected and complete version:\n\n```java\npublic ListNode partition(ListNode head, int x) {\n    ListNode beforehead = new ListNode(0);\n    ListNode afterhead = new ListNode(0);\n    ListNode before = beforehead;\n    ListNode after = afterhead;\n\n    while (head != null) {\n        if (head.val < x) {\n            before.next = head;\n            before = before.next;\n        } else {\n            after.next = head;\n            after = after.next;\n        }\n        head = head.next;\n    }\n\n    before.next = afterhead.next; // Connect the two sublists\n    after.next = null; // Terminate the second list\n    return beforehead.next; // Return the head of the partitioned list\n\n}\n```\n\nThis improved version iterates through the linked list, assigning nodes to either the `before` or `after` list based on their value relative to `x`. Finally, it connects the `before` and `after` lists and returns the head of the resulting partitioned list.  Remember that you'll also need a `ListNode` class definition for this code to compile and run.  A simple example would be:\n\n```java\nclass ListNode {\n    int val;\n    ListNode next;\n    ListNode(int x) { val = x; }\n}\n```\n"
          },
          "metadata": {}
        }
      ]
    }
  ]
}