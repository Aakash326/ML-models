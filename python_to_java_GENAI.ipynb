{
  "nbformat": 4,
  "nbformat_minor": 0,
  "metadata": {
    "colab": {
      "provenance": [],
      "authorship_tag": "ABX9TyPEJXomm8iYW94459tFx2Q6",
      "include_colab_link": true
    },
    "kernelspec": {
      "name": "python3",
      "display_name": "Python 3"
    },
    "language_info": {
      "name": "python"
    }
  },
  "cells": [
    {
      "cell_type": "markdown",
      "metadata": {
        "id": "view-in-github",
        "colab_type": "text"
      },
      "source": [
        "<a href=\"https://colab.research.google.com/github/Aakash326/ML-models/blob/main/python_to_java_GENAI.ipynb\" target=\"_parent\"><img src=\"https://colab.research.google.com/assets/colab-badge.svg\" alt=\"Open In Colab\"/></a>"
      ]
    },
    {
      "cell_type": "code",
      "execution_count": null,
      "metadata": {
        "id": "OdZThSjACSeN"
      },
      "outputs": [],
      "source": [
        "import os\n",
        "import subprocess\n",
        "import google.generativeai as genai"
      ]
    },
    {
      "cell_type": "code",
      "source": [
        "GEMINI_API_KEY = \"*********\"  # Replace this!\n",
        "\n",
        "# Or use environment variable if you're uploading `.env`\n",
        "os.environ[\"GEMINI_API_KEY\"] = GEMINI_API_KEY\n",
        "genai.configure(api_key=os.environ[\"GEMINI_API_KEY\"])"
      ],
      "metadata": {
        "id": "5W9WlOYkCWiR"
      },
      "execution_count": null,
      "outputs": []
    },
    {
      "cell_type": "code",
      "source": [
        "system_message = (\n",
        "    \"You are an assistant that reimplements Python code in high performance java for M1 Mac or Linux. \"\n",
        "    \"Respond only with java code; use comments sparingly. \"\n",
        "    \"Ensure that the output matches and runs as fast as possible.\"\n",
        ")"
      ],
      "metadata": {
        "id": "O8yzumm7Cio4"
      },
      "execution_count": null,
      "outputs": []
    },
    {
      "cell_type": "code",
      "source": [
        "def user_prompt_for(python_code):\n",
        "    return (\n",
        "        \"Rewrite this Python code in java with the fastest implementation that produces identical output. \"\n",
        "        \"Respond only with java code and generate the code in Leetcode style.\\n\\n\" + python_code\n",
        "    )"
      ],
      "metadata": {
        "id": "MHmZburSC8Cf"
      },
      "execution_count": null,
      "outputs": []
    },
    {
      "cell_type": "code",
      "source": [
        "py_code=input(\"Enter the code: \")"
      ],
      "metadata": {
        "colab": {
          "base_uri": "https://localhost:8080/"
        },
        "id": "vZaF-9o7Il6l",
        "outputId": "d4a95a2c-01c6-480c-9b55-e6a478ce11a8"
      },
      "execution_count": null,
      "outputs": [
        {
          "name": "stdout",
          "output_type": "stream",
          "text": [
            "Enter the code: from typing import List, Optional  # Definition for a binary tree node. class TreeNode:     def __init__(self, val: int = 0, left: Optional['TreeNode'] = None, right: Optional['TreeNode'] = None):         self.val = val         self.left = left         self.right = right  class Solution:     def buildTree(self, inorder: List[int], postorder: List[int]) -> Optional[TreeNode]:         # Map from value to index in inorder         inorder_index_map = {val: idx for idx, val in enumerate(inorder)}                  # Start from the last postorder element         self.post_idx = len(postorder) - 1          def helper(in_left: int, in_right: int) -> Optional[TreeNode]:             # If there is no element to construct the tree             if in_left > in_right:                 return None                          # Pick up the post_idx element as a root             root_val = postorder[self.post_idx]             root = TreeNode(root_val)              # Root splits inorder list into left and right subtrees             index = inorder_index_map[root_val]              # Decrement post_idx             self.post_idx -= 1              # Build right subtree first, then left subtree             root.right = helper(index + 1, in_right)             root.left = helper(in_left, index - 1)              return root          return helper(0, len(inorder) - 1)\n"
          ]
        }
      ]
    },
    {
      "cell_type": "code",
      "source": [
        "def generate_cpp_from_python(python_code):\n",
        "    # Combine system instructions and user prompt into one string\n",
        "    full_prompt = system_message + \"\\n\\n\" + user_prompt_for(py_code)\n",
        "\n",
        "    # Initialize Gemini model\n",
        "    model = genai.GenerativeModel(model_name=\"gemini-1.5-flash\")\n",
        "\n",
        "    # Call generate_content with single string\n",
        "    response = model.generate_content(full_prompt)\n",
        "\n",
        "    # Extract code\n",
        "    cpp_code = response.text.replace(\"```cpp\", \"\").replace(\"```\", \"\")\n",
        "    return cpp_code\n"
      ],
      "metadata": {
        "id": "JHClO3yEC_0L"
      },
      "execution_count": null,
      "outputs": []
    },
    {
      "cell_type": "code",
      "source": [
        "# def write_cpp_code(code_str, filename=\"optimized.cpp\"):\n",
        "#     with open(filename, \"w\") as f:\n",
        "#         f.write(code_str)"
      ],
      "metadata": {
        "id": "1bOfJIOKDcwu"
      },
      "execution_count": null,
      "outputs": []
    },
    {
      "cell_type": "code",
      "source": [
        "# def compile_and_run_cpp():\n",
        "#     compile_cmd = [\"g++\", \"-O3\", \"-std=c++17\", \"optimized.cpp\", \"-o\", \"optimized\"]\n",
        "#     try:\n",
        "#         subprocess.run(compile_cmd, check=True)\n",
        "#         result = subprocess.run([\"./optimized\"], capture_output=True, text=True)\n",
        "#         print(\"✅ C++ Program Output:\")\n",
        "#         print(result.stdout)\n",
        "#     except subprocess.CalledProcessError as e:\n",
        "#         print(\"❌ Compilation or Execution Failed:\")\n",
        "#         print(e.stderr)"
      ],
      "metadata": {
        "id": "GeapNTE_DdoG"
      },
      "execution_count": null,
      "outputs": []
    },
    {
      "cell_type": "code",
      "source": [
        "python_code = \"\"\"\n",
        "import time\n",
        "\n",
        "def calculate(iterations, param1, param2):\n",
        "    result = 1.0\n",
        "    for i in range(1, iterations+1):\n",
        "        j = i * param1 - param2\n",
        "        result -= (1/j)\n",
        "        j = i * param1 + param2\n",
        "        result += (1/j)\n",
        "    return result\n",
        "\n",
        "start_time = time.time()\n",
        "result = calculate(100_000_000, 4, 1) * 4\n",
        "end_time = time.time()\n",
        "\n",
        "print(f\"Result: {result:.12f}\")\n",
        "print(f\"Execution Time: {(end_time - start_time):.6f} seconds\")\n",
        "\"\"\""
      ],
      "metadata": {
        "id": "sC58cC7UDlIP"
      },
      "execution_count": null,
      "outputs": []
    },
    {
      "cell_type": "code",
      "source": [
        "cpp_code = generate_cpp_from_python(python_code)\n",
        "# write_cpp_code(cpp_code)\n",
        "# compile_and_run_cpp()"
      ],
      "metadata": {
        "id": "A1GTr7uaEGP5"
      },
      "execution_count": null,
      "outputs": []
    },
    {
      "cell_type": "code",
      "source": [
        "print(cpp_code)"
      ],
      "metadata": {
        "colab": {
          "base_uri": "https://localhost:8080/"
        },
        "id": "06-FoLInEjpa",
        "outputId": "ffcf4eec-91e3-470b-8c88-05787d9d2708"
      },
      "execution_count": null,
      "outputs": [
        {
          "output_type": "stream",
          "name": "stdout",
          "text": [
            "java\n",
            "import java.util.HashMap;\n",
            "import java.util.Map;\n",
            "\n",
            "class TreeNode {\n",
            "    int val;\n",
            "    TreeNode left;\n",
            "    TreeNode right;\n",
            "    TreeNode(int val) { this.val = val; }\n",
            "}\n",
            "\n",
            "class Solution {\n",
            "    private Map<Integer, Integer> inorderIndexMap;\n",
            "    private int postIdx;\n",
            "\n",
            "    public TreeNode buildTree(int[] inorder, int[] postorder) {\n",
            "        inorderIndexMap = new HashMap<>();\n",
            "        for (int i = 0; i < inorder.length; i++) {\n",
            "            inorderIndexMap.put(inorder[i], i);\n",
            "        }\n",
            "        postIdx = postorder.length - 1;\n",
            "        return helper(inorder, postorder, 0, inorder.length - 1);\n",
            "    }\n",
            "\n",
            "    private TreeNode helper(int[] inorder, int[] postorder, int inLeft, int inRight) {\n",
            "        if (inLeft > inRight) return null;\n",
            "        int rootVal = postorder[postIdx];\n",
            "        TreeNode root = new TreeNode(rootVal);\n",
            "        int index = inorderIndexMap.get(rootVal);\n",
            "        postIdx--;\n",
            "        root.right = helper(inorder, postorder, index + 1, inRight);\n",
            "        root.left = helper(inorder, postorder, inLeft, index - 1);\n",
            "        return root;\n",
            "    }\n",
            "}\n",
            "\n",
            "\n"
          ]
        }
      ]
    },
    {
      "cell_type": "code",
      "source": [],
      "metadata": {
        "id": "fucnNrzrF_E-"
      },
      "execution_count": null,
      "outputs": []
    }
  ]
}