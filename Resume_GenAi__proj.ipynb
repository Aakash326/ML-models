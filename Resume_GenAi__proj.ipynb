{
  "nbformat": 4,
  "nbformat_minor": 0,
  "metadata": {
    "colab": {
      "provenance": [],
      "authorship_tag": "ABX9TyM25t9MJ7rDZ9eXxkphS5wT",
      "include_colab_link": true
    },
    "kernelspec": {
      "name": "python3",
      "display_name": "Python 3"
    },
    "language_info": {
      "name": "python"
    }
  },
  "cells": [
    {
      "cell_type": "markdown",
      "metadata": {
        "id": "view-in-github",
        "colab_type": "text"
      },
      "source": [
        "<a href=\"https://colab.research.google.com/github/Aakash326/ML-models/blob/main/Resume_GenAi__proj.ipynb\" target=\"_parent\"><img src=\"https://colab.research.google.com/assets/colab-badge.svg\" alt=\"Open In Colab\"/></a>"
      ]
    },
    {
      "cell_type": "code",
      "execution_count": 1,
      "metadata": {
        "id": "a02WybnRjOEM"
      },
      "outputs": [],
      "source": [
        "# !pip install pydantic\n",
        "from pydantic import BaseModel"
      ]
    },
    {
      "cell_type": "code",
      "source": [
        "class User(BaseModel):\n",
        "    name: str\n",
        "    age: int\n",
        "    email: str"
      ],
      "metadata": {
        "id": "l4w-MgvMjjBr"
      },
      "execution_count": 2,
      "outputs": []
    },
    {
      "cell_type": "code",
      "source": [
        "user = User(name = \"Mira\", age = 30, email = \"mira@gmail.com\")\n",
        "print(user.json())"
      ],
      "metadata": {
        "colab": {
          "base_uri": "https://localhost:8080/",
          "height": 0
        },
        "id": "nYtAvWBojli6",
        "outputId": "4752ac2f-c14a-4c3b-a109-56c9fb85a1b7"
      },
      "execution_count": 3,
      "outputs": [
        {
          "output_type": "stream",
          "name": "stdout",
          "text": [
            "{\"name\":\"Mira\",\"age\":30,\"email\":\"mira@gmail.com\"}\n"
          ]
        },
        {
          "output_type": "stream",
          "name": "stderr",
          "text": [
            "/tmp/ipython-input-3-2340500492.py:2: PydanticDeprecatedSince20: The `json` method is deprecated; use `model_dump_json` instead. Deprecated in Pydantic V2.0 to be removed in V3.0. See Pydantic V2 Migration Guide at https://errors.pydantic.dev/2.11/migration/\n",
            "  print(user.json())\n"
          ]
        }
      ]
    },
    {
      "cell_type": "code",
      "source": [
        "user = User(name = \"Mira\", age = \"not-a-number\", email = \"mira@gmail.com\")\n",
        "print(user.json())"
      ],
      "metadata": {
        "colab": {
          "base_uri": "https://localhost:8080/",
          "height": 326
        },
        "collapsed": true,
        "id": "pdszQDq1j1Yx",
        "outputId": "fa1c19f6-a4ac-4405-e285-c926d8d07dd1"
      },
      "execution_count": 4,
      "outputs": [
        {
          "output_type": "error",
          "ename": "ValidationError",
          "evalue": "1 validation error for User\nage\n  Input should be a valid integer, unable to parse string as an integer [type=int_parsing, input_value='not-a-number', input_type=str]\n    For further information visit https://errors.pydantic.dev/2.11/v/int_parsing",
          "traceback": [
            "\u001b[0;31m---------------------------------------------------------------------------\u001b[0m",
            "\u001b[0;31mValidationError\u001b[0m                           Traceback (most recent call last)",
            "\u001b[0;32m/tmp/ipython-input-4-1231404650.py\u001b[0m in \u001b[0;36m<cell line: 0>\u001b[0;34m()\u001b[0m\n\u001b[0;32m----> 1\u001b[0;31m \u001b[0muser\u001b[0m \u001b[0;34m=\u001b[0m \u001b[0mUser\u001b[0m\u001b[0;34m(\u001b[0m\u001b[0mname\u001b[0m \u001b[0;34m=\u001b[0m \u001b[0;34m\"Mira\"\u001b[0m\u001b[0;34m,\u001b[0m \u001b[0mage\u001b[0m \u001b[0;34m=\u001b[0m \u001b[0;34m\"not-a-number\"\u001b[0m\u001b[0;34m,\u001b[0m \u001b[0memail\u001b[0m \u001b[0;34m=\u001b[0m \u001b[0;34m\"mira@gmail.com\"\u001b[0m\u001b[0;34m)\u001b[0m\u001b[0;34m\u001b[0m\u001b[0;34m\u001b[0m\u001b[0m\n\u001b[0m\u001b[1;32m      2\u001b[0m \u001b[0mprint\u001b[0m\u001b[0;34m(\u001b[0m\u001b[0muser\u001b[0m\u001b[0;34m.\u001b[0m\u001b[0mjson\u001b[0m\u001b[0;34m(\u001b[0m\u001b[0;34m)\u001b[0m\u001b[0;34m)\u001b[0m\u001b[0;34m\u001b[0m\u001b[0;34m\u001b[0m\u001b[0m\n",
            "\u001b[0;32m/usr/local/lib/python3.11/dist-packages/pydantic/main.py\u001b[0m in \u001b[0;36m__init__\u001b[0;34m(self, **data)\u001b[0m\n\u001b[1;32m    251\u001b[0m         \u001b[0;31m# `__tracebackhide__` tells pytest and some other tools to omit this function from tracebacks\u001b[0m\u001b[0;34m\u001b[0m\u001b[0;34m\u001b[0m\u001b[0m\n\u001b[1;32m    252\u001b[0m         \u001b[0m__tracebackhide__\u001b[0m \u001b[0;34m=\u001b[0m \u001b[0;32mTrue\u001b[0m\u001b[0;34m\u001b[0m\u001b[0;34m\u001b[0m\u001b[0m\n\u001b[0;32m--> 253\u001b[0;31m         \u001b[0mvalidated_self\u001b[0m \u001b[0;34m=\u001b[0m \u001b[0mself\u001b[0m\u001b[0;34m.\u001b[0m\u001b[0m__pydantic_validator__\u001b[0m\u001b[0;34m.\u001b[0m\u001b[0mvalidate_python\u001b[0m\u001b[0;34m(\u001b[0m\u001b[0mdata\u001b[0m\u001b[0;34m,\u001b[0m \u001b[0mself_instance\u001b[0m\u001b[0;34m=\u001b[0m\u001b[0mself\u001b[0m\u001b[0;34m)\u001b[0m\u001b[0;34m\u001b[0m\u001b[0;34m\u001b[0m\u001b[0m\n\u001b[0m\u001b[1;32m    254\u001b[0m         \u001b[0;32mif\u001b[0m \u001b[0mself\u001b[0m \u001b[0;32mis\u001b[0m \u001b[0;32mnot\u001b[0m \u001b[0mvalidated_self\u001b[0m\u001b[0;34m:\u001b[0m\u001b[0;34m\u001b[0m\u001b[0;34m\u001b[0m\u001b[0m\n\u001b[1;32m    255\u001b[0m             warnings.warn(\n",
            "\u001b[0;31mValidationError\u001b[0m: 1 validation error for User\nage\n  Input should be a valid integer, unable to parse string as an integer [type=int_parsing, input_value='not-a-number', input_type=str]\n    For further information visit https://errors.pydantic.dev/2.11/v/int_parsing"
          ]
        }
      ]
    },
    {
      "cell_type": "code",
      "source": [
        "import os\n",
        "import google.generativeai as genai\n",
        "from openai import OpenAI  # Make sure you have the latest openai package (pip install --upgrade openai)\n",
        "# from dotenv import load_dotenv\n",
        "import json\n",
        "from typing import List, Dict, Union, Optional, Any\n",
        "from IPython.display import display, Markdown"
      ],
      "metadata": {
        "id": "KBDauG38j4R3"
      },
      "execution_count": 2,
      "outputs": []
    },
    {
      "cell_type": "code",
      "source": [
        "from google.colab import userdata\n",
        "from openai import OpenAI\n",
        "\n",
        "# ✅ Load the secret from Colab\n",
        "openai_api_key = userdata.get(\"OPENAI_API_KEY\")  # must match exactly what you named it in the Secrets panel\n",
        "\n",
        "# ✅ Initialize the OpenAI client\n",
        "client = OpenAI(api_key=openai_api_key)"
      ],
      "metadata": {
        "id": "LGtdYehblLMv"
      },
      "execution_count": 3,
      "outputs": []
    },
    {
      "cell_type": "code",
      "source": [
        "gemini_ai = userdata.get(\"GEMINI_API_KEY\")\n",
        "# Initialize the model\n",
        "genai.configure(api_key=gemini_ai)\n",
        "gemini_model = genai.GenerativeModel(\"gemini-2.0-flash\")"
      ],
      "metadata": {
        "id": "JV1D1vsulOqZ"
      },
      "execution_count": 78,
      "outputs": []
    },
    {
      "cell_type": "code",
      "source": [
        "class scientist(BaseModel):\n",
        "  name: str\n",
        "  field: str\n",
        "  known_for: list[str]\n",
        "  birth_year: int"
      ],
      "metadata": {
        "id": "VzXPVFWblSfY"
      },
      "execution_count": 4,
      "outputs": []
    },
    {
      "cell_type": "code",
      "source": [
        "prompt = \"\"\"\n",
        "Give me a JSON object with details about a famous scientist.\n",
        "Include the following fields: name, field, known_for, and birth_year.\n",
        "\"\"\"\n",
        "\n",
        "# Let's make the API call to OpenAI\n",
        "# Note that we used \"openai_client.beta.chat.completions.parse( )\" since we want to parse it into a structured output instead of just plain text\n",
        "response = client.chat.completions.parse(\n",
        "    model=\"gpt-4o-mini\",\n",
        "    messages=[\n",
        "        {\"role\": \"user\", \"content\": prompt}\n",
        "    ],\n",
        "    temperature=0,\n",
        "    response_format=scientist,  # Must be used with `.parse()`, not `.create()`\n",
        "    max_tokens=300\n",
        ")"
      ],
      "metadata": {
        "id": "gQtahfwzmRQw"
      },
      "execution_count": 24,
      "outputs": []
    },
    {
      "cell_type": "code",
      "source": [
        "response.choices[0].message.content"
      ],
      "metadata": {
        "colab": {
          "base_uri": "https://localhost:8080/",
          "height": 52
        },
        "id": "FdEMK66jmhne",
        "outputId": "b7b0e0e7-ee0e-468a-f34d-c8763ce81068"
      },
      "execution_count": 25,
      "outputs": [
        {
          "output_type": "execute_result",
          "data": {
            "text/plain": [
              "'{\"name\":\"Albert Einstein\",\"field\":\"Physics\",\"known_for\":[\"Theory of Relativity\",\"Photoelectric Effect\",\"Mass-energy equivalence (E=mc²)\"],\"birth_year\":1879}'"
            ],
            "application/vnd.google.colaboratory.intrinsic+json": {
              "type": "string"
            }
          },
          "metadata": {},
          "execution_count": 25
        }
      ]
    },
    {
      "cell_type": "code",
      "source": [
        "json.loads(response.choices[0].message.content)"
      ],
      "metadata": {
        "colab": {
          "base_uri": "https://localhost:8080/",
          "height": 0
        },
        "id": "xf9i9-OFnRkP",
        "outputId": "d4023d3d-3ec1-4af9-c756-99429d27f101"
      },
      "execution_count": 23,
      "outputs": [
        {
          "output_type": "execute_result",
          "data": {
            "text/plain": [
              "{'name': 'Albert Einstein',\n",
              " 'field': 'Physics',\n",
              " 'known_for': ['Theory of Relativity',\n",
              "  'Photoelectric Effect',\n",
              "  'Mass-energy equivalence (E=mc²)'],\n",
              " 'birth_year': 1879}"
            ]
          },
          "metadata": {},
          "execution_count": 23
        }
      ]
    },
    {
      "cell_type": "code",
      "source": [
        "def print_markdown(text):\n",
        "    \"\"\"Displays text as Markdown.\"\"\"\n",
        "    display(Markdown(text))"
      ],
      "metadata": {
        "id": "0j6-zuyzoMsj"
      },
      "execution_count": 5,
      "outputs": []
    },
    {
      "cell_type": "code",
      "source": [
        "resume_text = \"\"\"\n",
        "**Jessica Brown**\n",
        "jessica.brown@email.com | (416) 555-7890 | linkedin.com/in/jessicabrown\n",
        "\n",
        "**Summary**\n",
        "Marketing professsional with 2 years of experience assisting in digital campaigns, content creation, and social media activities. Comfortable handling multiple tasks and providing general marketing support.\n",
        "\n",
        "**Experience**\n",
        "\n",
        "**Marketing Asssistant | Brewster Coffee Co. | Toronto, ON | Jan 2022 – Present**\n",
        "- Assisted with digital marketing campaigns including email and social media.\n",
        "- Created blog posts and social media updates to improve audience engagement.\n",
        "- Managed social media accounts and grew follower numbers.\n",
        "- Supported coordination of marketing events.\n",
        "- Conducted market research and competitor analysis.\n",
        "\n",
        "**Skils**\n",
        "- Digital Marketing (SEO basics, Email Marketing)\n",
        "- Social Media Tools (Hootsuite, Buffer)\n",
        "- Microsoft Office Suite, Google Workspace\n",
        "- Basic knowledge of Adobe Photoshop\n",
        "\n",
        "**Education**\n",
        "**Bachelor of Commerce, Marketing** | Ryerson University (now Toronto Metropolitan University), Toronto, ON | May 2021\n",
        "\"\"\""
      ],
      "metadata": {
        "id": "Bdmc3iMEsx99"
      },
      "execution_count": 6,
      "outputs": []
    },
    {
      "cell_type": "code",
      "source": [
        "job_description_text = \"\"\"\n",
        "# Job Title: Digital Marketing Specialist\n",
        "\n",
        "**Company:** BrightWave Digital Agency\n",
        "\n",
        "**Location:** Toronto, ON\n",
        "\n",
        "## About Us:\n",
        "BrightWave Digital Agency creates digital marketing campaigns for a variety of clients. We are looking for a Digital Marketing Specialist to join our team and assist in managing campaigns.\n",
        "\n",
        "## Responsibilities:\n",
        "- Assist in planning and executing digital marketing campaigns (SEO, SEM, social media, email).\n",
        "- Use Google Analytics to measure performance and prepare basic performance reports.\n",
        "- Support social media management tasks including content scheduling and community engagement.\n",
        "- Perform keyword research and assist in optimizing content for SEO.\n",
        "- Work with designers to help coordinate campaign materials.\n",
        "- Keep informed about current digital marketing trends.\n",
        "\n",
        "## Qualifications:\n",
        "- Bachelor's degree in Marketing, Communications, or similar.\n",
        "- 2+ years of digital marketing experience.\n",
        "- Familiarity with SEO, SEM, Google Analytics, and social media.\n",
        "- Ability to interpret basic marketing data.\n",
        "- Good communication and writing skills.\n",
        "- Knowledge of CRM systems (e.g., HubSpot) helpful.\n",
        "- Experience with Adobe Creative Suite is beneficial.\n",
        "\"\"\""
      ],
      "metadata": {
        "id": "y1r4Z3Dws0S1"
      },
      "execution_count": 13,
      "outputs": []
    },
    {
      "cell_type": "code",
      "source": [
        "print_markdown(\"**--- Original Resume ---**\")\n",
        "print_markdown(resume_text)"
      ],
      "metadata": {
        "colab": {
          "base_uri": "https://localhost:8080/",
          "height": 420
        },
        "id": "nUtB5eWEs3aJ",
        "outputId": "93aba928-8454-444d-b0ee-8cdfef26a9cb"
      },
      "execution_count": 7,
      "outputs": [
        {
          "output_type": "display_data",
          "data": {
            "text/plain": [
              "<IPython.core.display.Markdown object>"
            ],
            "text/markdown": "**--- Original Resume ---**"
          },
          "metadata": {}
        },
        {
          "output_type": "display_data",
          "data": {
            "text/plain": [
              "<IPython.core.display.Markdown object>"
            ],
            "text/markdown": "\n**Jessica Brown**  \njessica.brown@email.com | (416) 555-7890 | linkedin.com/in/jessicabrown\n\n**Summary**  \nMarketing professsional with 2 years of experience assisting in digital campaigns, content creation, and social media activities. Comfortable handling multiple tasks and providing general marketing support.\n\n**Experience**\n\n**Marketing Asssistant | Brewster Coffee Co. | Toronto, ON | Jan 2022 – Present**\n- Assisted with digital marketing campaigns including email and social media.\n- Created blog posts and social media updates to improve audience engagement.\n- Managed social media accounts and grew follower numbers.\n- Supported coordination of marketing events.\n- Conducted market research and competitor analysis.\n\n**Skils**\n- Digital Marketing (SEO basics, Email Marketing)\n- Social Media Tools (Hootsuite, Buffer)\n- Microsoft Office Suite, Google Workspace\n- Basic knowledge of Adobe Photoshop\n\n**Education**  \n**Bachelor of Commerce, Marketing** | Ryerson University (now Toronto Metropolitan University), Toronto, ON | May 2021\n"
          },
          "metadata": {}
        }
      ]
    },
    {
      "cell_type": "code",
      "source": [
        "def openai(prompt:str):\n",
        "          #  response_format:Optional[dict] =None)->str | dict:\n",
        "  try:\n",
        "    if response_format is None:\n",
        "      response=client.chat.completions.create(\n",
        "          model=\"gpt-4o-mini\",\n",
        "          messages=[\n",
        "              {\"role\":\"system\",\"content\":\"you are a helpful assistant specializing in resume writing and career advice.\"},\n",
        "              {\"role\":\"user\",\"content\":prompt}\n",
        "          ],\n",
        "      temperature=0.7,\n",
        "      max_tokens=1500\n",
        "      )\n",
        "\n",
        "      return response.choices[0].message.content\n",
        "\n",
        "    else:\n",
        "            completion =client.beta.chat.completions.parse(\n",
        "                model = model,  # Make sure to use a model that supports parse\n",
        "                messages = [\n",
        "                    # Same system and user messages as above\n",
        "                    {\n",
        "                        \"role\": \"system\",\n",
        "                        \"content\": \"You are a helpful assistant specializing in resume writing and career advice.\",\n",
        "                    },\n",
        "                    {\"role\": \"user\", \"content\": prompt},\n",
        "                ],\n",
        "                temperature = 0.7,\n",
        "                response_format = response_format)\n",
        "\n",
        "            # Return the parsed structured output\n",
        "            return completion.choices[0].message.parsed\n",
        "\n",
        "  except Exception as e:\n",
        "        # Error handling to prevent crashes\n",
        "        return f\"Error generating text: {e}\""
      ],
      "metadata": {
        "id": "_HDN09iiuHJR"
      },
      "execution_count": 8,
      "outputs": []
    },
    {
      "cell_type": "code",
      "source": [
        "def openai(prompt: str, response_format=None, model=\"gpt-4o-mini\", temperature=0.7):\n",
        "    try:\n",
        "        if response_format is None:\n",
        "            response = client.chat.completions.create(\n",
        "                model=model,\n",
        "                messages=[\n",
        "                    {\"role\": \"system\", \"content\": \"You are a helpful assistant specializing in resume writing.\"},\n",
        "                    {\"role\": \"user\", \"content\": prompt}\n",
        "                ],\n",
        "                temperature=temperature,\n",
        "                max_tokens=1500\n",
        "            )\n",
        "            return response.choices[0].message.content\n",
        "        else:\n",
        "            completion = client.beta.chat.completions.parse(\n",
        "                model=model,\n",
        "                messages=[\n",
        "                    {\"role\": \"system\", \"content\": \"You are a helpful assistant specializing in resume writing.\"},\n",
        "                    {\"role\": \"user\", \"content\": prompt}\n",
        "                ],\n",
        "                temperature=temperature,\n",
        "                response_format=response_format,  # Fixed parameter name\n",
        "                max_tokens=1500\n",
        "            )\n",
        "            return completion.choices[0].message.parsed\n",
        "    except Exception as e:\n",
        "        return f\"Error generating text: {e}\""
      ],
      "metadata": {
        "id": "dFUSuI6hybHE"
      },
      "execution_count": 9,
      "outputs": []
    },
    {
      "cell_type": "code",
      "source": [
        "prompt = f\"\"\"\n",
        "Context:\n",
        "You are a professional resume writer helping a candidate tailor their resume for a specific job opportunity. The resume and job description are provided below.\n",
        "\n",
        "Instruction:\n",
        "Enhance the resume to make it more impactful. Focus on:\n",
        "- Highlighting relevant skills and achievements.\n",
        "- Using strong action verbs and quantifiable results where possible.\n",
        "- Rewriting vague or generic bullet points to be specific and results-driven.\n",
        "- Emphasizing experience and skills most relevant to the job description.\n",
        "- Reorganizing sections if necessary to better match the job requirements.\n",
        "\n",
        "Resume:\n",
        "{resume_text}\n",
        "\n",
        "Output:\n",
        "Provide a revised and improved version of the resume that is well-formatted. Only return the updated resume.\n",
        "\"\"\""
      ],
      "metadata": {
        "id": "fYf4vNHavWbv"
      },
      "execution_count": 10,
      "outputs": []
    },
    {
      "cell_type": "code",
      "source": [
        "openai_output = openai(prompt)\n",
        "\n",
        "# Display the results\n",
        "print_markdown(\"#### OpenAI Response:\")\n",
        "print_markdown(openai_output)"
      ],
      "metadata": {
        "colab": {
          "base_uri": "https://localhost:8080/",
          "height": 534
        },
        "id": "9lBTzeC6vfmg",
        "outputId": "f50bcccb-52ef-48c3-c0a0-e64a697b4ad1"
      },
      "execution_count": 59,
      "outputs": [
        {
          "output_type": "display_data",
          "data": {
            "text/plain": [
              "<IPython.core.display.Markdown object>"
            ],
            "text/markdown": "#### OpenAI Response:"
          },
          "metadata": {}
        },
        {
          "output_type": "display_data",
          "data": {
            "text/plain": [
              "<IPython.core.display.Markdown object>"
            ],
            "text/markdown": "**Jessica Brown**  \njessica.brown@email.com | (416) 555-7890 | linkedin.com/in/jessicabrown\n\n---\n\n**Summary**  \nResults-driven Marketing Professional with 2 years of experience in executing digital marketing strategies and enhancing brand visibility through targeted content creation and social media engagement. Proven ability to manage multiple projects simultaneously and deliver measurable results in fast-paced environments.\n\n---\n\n**Experience**\n\n**Marketing Assistant | Brewster Coffee Co. | Toronto, ON | Jan 2022 – Present**  \n- Spearheaded digital marketing campaigns, increasing email open rates by 25% and social media engagement by 40% through strategic content development and audience targeting.\n- Developed and published over 30 blog posts and social media updates, driving a 15% increase in website traffic and enhancing community interaction.\n- Managed and optimized social media accounts, successfully growing follower base from 1,000 to 3,500 in under a year through innovative engagement strategies.\n- Coordinated and executed marketing events, resulting in a 20% increase in customer attendance and brand awareness.\n- Conducted comprehensive market research and competitor analysis, providing actionable insights that led to the refining of marketing strategies and improved campaign performance.\n\n---\n\n**Skills**  \n- Digital Marketing: SEO fundamentals, Email Marketing, Campaign Analytics  \n- Social Media Management: Hootsuite, Buffer, Content Scheduling  \n- Proficient in Microsoft Office Suite and Google Workspace  \n- Basic Graphic Design: Adobe Photoshop  \n\n---\n\n**Education**  \n**Bachelor of Commerce, Marketing** | Toronto Metropolitan University, Toronto, ON | May 2021  \n\n---"
          },
          "metadata": {}
        }
      ]
    },
    {
      "cell_type": "code",
      "source": [
        "def gemini_generate(prompt: str, temperature: float = 0.7, max_output_tokens: int = 1500) -> str:\n",
        "    try:\n",
        "        response = gemini_model.generate_content(\n",
        "            prompt,\n",
        "            generation_config=genai.types.GenerationConfig(\n",
        "                temperature=temperature,\n",
        "                max_output_tokens=max_output_tokens\n",
        "            ),\n",
        "        )\n",
        "        # ✅ Correctly access generated content using parts\n",
        "        if not response.candidates or not response.candidates[0].content.parts:\n",
        "            reason = response.candidates[0].finish_reason if response.candidates else \"unknown\"\n",
        "            return f\"⚠️ No content generated. finish_reason = {reason}\"\n",
        "\n",
        "        output_text = \"\".join([p.text for p in response.candidates[0].content.parts])\n",
        "        return output_text\n",
        "\n",
        "    except Exception as e:\n",
        "        return f\"❌ Error generating text: {e}\"\n"
      ],
      "metadata": {
        "id": "xdf1HA7mwNo2"
      },
      "execution_count": 79,
      "outputs": []
    },
    {
      "cell_type": "code",
      "source": [
        "def analyze_resume_against_job_description(job_description_text: str, resume_text: str, model: str = \"openai\") -> str:\n",
        "    \"\"\"\n",
        "    Analyze the resume against the job description and return a structured comparison.\n",
        "\n",
        "    Args:\n",
        "        job_description_text (str): The job description text.\n",
        "        resume_text (str): The candidate's resume text.\n",
        "        model (str): The model to use for analysis (\"openai\" or \"gemini\").\n",
        "\n",
        "    Returns:\n",
        "        str: A clear, structured comparison of the resume and job description.\n",
        "    \"\"\"\n",
        "    # This prompt instructs the AI to act as a career advisor and analyze how well the resume matches the job description\n",
        "    # It asks for a structured analysis with 4 specific sections: requirements, matches, gaps, and strengths\n",
        "    prompt = f\"\"\"\n",
        "    Context:\n",
        "    You are a career advisor and resume expert. Your task is to analyze a candidate's resume against a specific job description to assess alignment and identify areas for improvement.\n",
        "\n",
        "    Instruction:\n",
        "    Review the provided Job Description and Resume. Identify key skills, experiences, and qualifications in the Job Description and compare them to what's present in the Resume. Provide a structured analysis with the following sections:\n",
        "    1. **Key Requirements from Job Description:** List the main skills, experiences, and qualifications sought by the employer.\n",
        "    2. **Relevant Experience in Resume:** List the skills and experiences from the resume that match or align closely with the job requirements.\n",
        "    3. **Gaps/Mismatches:** Identify important skills or qualifications from the Job Description that are missing, unclear, or underrepresented in the Resume.\n",
        "    4. **Potential Strengths:** Highlight any valuable skills, experiences, or accomplishments in the resume that are not explicitly requested in the job description but could strengthen the application.\n",
        "\n",
        "    Job Description:\n",
        "\n",
        "    {job_description_text}\n",
        "\n",
        "    Resume:\n",
        "\n",
        "    {resume_text}\n",
        "\n",
        "    Output:\n",
        "    Return a clear, structured comparison with the four sections outlined above.\n",
        "    \"\"\"\n",
        "\n",
        "    # This conditional block selects which AI model to use based on the 'model' parameter\n",
        "    if model == \"openai\":\n",
        "      # Uses OpenAI's model to generate the gap analysis with moderate creativity (temperature=0.7)\n",
        "      gap_analysis = openai(prompt, temperature=0.7)\n",
        "    elif model == \"gemini\":\n",
        "        # Uses Google's Gemini model with less creativity (temperature=0.5) for more focused results\n",
        "        gap_analysis = gemini_generate(prompt, temperature=0.5)\n",
        "    else:\n",
        "        # Raises an error if an invalid model name is provided\n",
        "        raise ValueError(f\"Invalid model: {model}\")\n",
        "\n",
        "    # Returns the generated gap analysis text\n",
        "    return gap_analysis"
      ],
      "metadata": {
        "id": "8MCcGhJN1ExH"
      },
      "execution_count": 11,
      "outputs": []
    },
    {
      "cell_type": "code",
      "source": [
        "gap_analysis_openai = analyze_resume_against_job_description(job_description_text,\n",
        "                                                             resume_text,\n",
        "                                                             model = \"openai\")"
      ],
      "metadata": {
        "id": "3EU1XPHw5Lm-"
      },
      "execution_count": 15,
      "outputs": []
    },
    {
      "cell_type": "code",
      "source": [
        "print_markdown(\"#### Open AI:\")\n",
        "print_markdown(gap_analysis_openai)"
      ],
      "metadata": {
        "colab": {
          "base_uri": "https://localhost:8080/",
          "height": 1000
        },
        "id": "4F1r68WS5Xvz",
        "outputId": "1402ea59-9730-43a1-cf07-294c3f77f140"
      },
      "execution_count": 16,
      "outputs": [
        {
          "output_type": "display_data",
          "data": {
            "text/plain": [
              "<IPython.core.display.Markdown object>"
            ],
            "text/markdown": "#### Open AI:"
          },
          "metadata": {}
        },
        {
          "output_type": "display_data",
          "data": {
            "text/plain": [
              "<IPython.core.display.Markdown object>"
            ],
            "text/markdown": "### 1. Key Requirements from Job Description:\n- **Education:** Bachelor's degree in Marketing, Communications, or similar.\n- **Experience:** 2+ years of digital marketing experience.\n- **Skills:**\n  - Proficiency in SEO, SEM, social media, and email marketing.\n  - Familiarity with Google Analytics and ability to interpret marketing data.\n  - Good communication and writing skills.\n  - Knowledge of CRM systems (e.g., HubSpot).\n  - Experience with Adobe Creative Suite is beneficial.\n- **Responsibilities:**\n  - Planning and executing digital marketing campaigns.\n  - Supporting social media management including content scheduling and community engagement.\n  - Performing keyword research and optimizing content for SEO.\n  - Coordinating with designers for campaign materials.\n  - Staying informed about current digital marketing trends.\n\n### 2. Relevant Experience in Resume:\n- **Education:** Bachelor's degree in Marketing (Bachelor of Commerce, Marketing from Ryerson University).\n- **Experience:** 2 years as a Marketing Assistant, which includes:\n  - Assisting with digital marketing campaigns (email and social media).\n  - Creating content for blogs and social media, which contributes to audience engagement.\n  - Managing social media accounts and growing follower numbers.\n  - Conducting market research, which aligns with a foundational aspect of campaign planning.\n- **Skills:**\n  - Basic understanding of SEO and experience with email marketing.\n  - Experience with social media tools (Hootsuite, Buffer).\n  - Basic knowledge of Adobe Photoshop (though not the full Creative Suite).\n\n### 3. Gaps/Mismatches:\n- **Experience Requirement:** The resume shows only 2 years of experience, which meets the minimum requirement but does not exceed or demonstrate advanced capabilities in digital marketing.\n- **Technical Skills:**\n  - Lack of explicit experience with SEM and Google Analytics; the resume does not mention familiarity with these tools, which are crucial for measuring campaign performance.\n  - No mention of CRM systems like HubSpot, which is noted as helpful in the job description.\n  - The resume indicates only basic SEO knowledge, whereas the job may require more advanced skills in keyword research and content optimization.\n- **Communication Skills:** While the resume states good communication and writing skills, it would be beneficial to provide specific examples or achievements that demonstrate these abilities.\n  \n### 4. Potential Strengths:\n- **Content Creation:** Jessica's experience in creating blog posts and social media updates could be a valuable asset, as these skills are essential for digital marketing roles.\n- **Social Media Management:** Her success in growing social media follower numbers shows her capability in community engagement and content scheduling.\n- **Market Research:** Experience in conducting market research and competitor analysis is advantageous and demonstrates analytical skills that can be applied to campaign planning.\n- **Adaptability and Support Role:** Her ability to handle multiple tasks and provide general marketing support indicates a team-oriented approach and flexibility, which are positive traits in a fast-paced digital marketing environment.\n\n### Recommendations for Improvement:\n- Enhance the resume by including specific examples of campaigns managed, metrics achieved, and tools used, especially for Google Analytics and SEM.\n- Consider taking additional courses or certifications related to Google Analytics and SEM to strengthen technical skills.\n- Include any experience or knowledge related to CRM systems or Adobe Creative Suite to better align with job requirements.\n- Expand on communication skills by highlighting specific writing projects or successful campaigns that showcase these abilities."
          },
          "metadata": {}
        }
      ]
    },
    {
      "cell_type": "code",
      "source": [
        "print_markdown(\"#### Gemini AI:\")\n",
        "print_markdown(gap_analysis_openai)"
      ],
      "metadata": {
        "colab": {
          "base_uri": "https://localhost:8080/",
          "height": 912
        },
        "collapsed": true,
        "id": "UFdSRO8Q5e07",
        "outputId": "e0860d29-6412-4c05-c0c9-67d8b34214d0"
      },
      "execution_count": 83,
      "outputs": [
        {
          "output_type": "display_data",
          "data": {
            "text/plain": [
              "<IPython.core.display.Markdown object>"
            ],
            "text/markdown": "#### Gemini AI:"
          },
          "metadata": {}
        },
        {
          "output_type": "display_data",
          "data": {
            "text/plain": [
              "<IPython.core.display.Markdown object>"
            ],
            "text/markdown": "## Digital Marketing Specialist Resume Analysis: Jessica Brown\n\nHere's an analysis of Jessica Brown's resume against the provided Digital Marketing Specialist job description:\n\n**1. Key Requirements from Job Description:**\n\n*   **Education:** Bachelor's degree in Marketing, Communications, or similar.\n*   **Experience:** 2+ years of digital marketing experience.\n*   **Skills:**\n    *   SEO\n    *   SEM\n    *   Google Analytics\n    *   Social Media Management\n    *   Data Interpretation (basic marketing data)\n    *   Communication and Writing Skills\n    *   CRM Systems (e.g., HubSpot) - Helpful\n    *   Adobe Creative Suite - Beneficial\n*   **Responsibilities Alignment:** Experience in planning/executing campaigns, content creation, performance measurement, and coordinating with designers.\n\n**2. Relevant Experience in Resume:**\n\n*   **Education:** Bachelor of Commerce, Marketing - Directly aligns with the requirement.\n*   **Experience:**\n    *   2 years of experience as a Marketing Assistant - Meets the minimum experience requirement.\n    *   Assisted with digital marketing campaigns including email and social media - Aligns with campaign execution responsibilities.\n    *   Created blog posts and social media updates - Demonstrates content creation skills.\n    *   Managed social media accounts and grew follower numbers - Shows social media management experience.\n*   **Skills:**\n    *   Digital Marketing (SEO basics, Email Marketing) - Partially aligns with SEO and Email Marketing requirements.\n    *   Social Media Tools (Hootsuite, Buffer) - Demonstrates practical experience with social media management.\n\n**3. Gaps/Mismatches:**\n\n*   **SEM:** No mention of Search Engine Marketing (SEM) experience.\n*   **Google Analytics:** No explicit mention of Google Analytics experience or preparing performance reports. While she \"assisted with digital marketing campaigns,\" the resume doesn't highlight her role in measuring and reporting on campaign performance.\n*   **Data Interpretation:** The resume doesn't showcase her ability to interpret marketing data.\n*   **CRM Systems:** No mention of experience with CRM systems like HubSpot.\n*   **Adobe Creative Suite:** Lists \"Basic knowledge of Adobe Photoshop,\" but the job description mentions \"Adobe Creative Suite\" which includes other programs such as Illustrator and InDesign.\n*   **Keyword Research:** No mention of experience with keyword research.\n*   **Specificity:** While the resume mentions \"assisting\" with campaigns, it lacks quantifiable achievements or specific examples of her contributions and impact.\n\n**4. Potential Strengths:**\n\n*   **Social Media Growth:** The resume mentions growing follower numbers on social media. Quantifying this growth (e.g., \"Increased Instagram followers by 30% in six months\") would be a significant strength.\n*   **Location:** Living in Toronto is a practical advantage, although not explicitly mentioned in the job description.\n*   **Market Research and Competitor Analysis:** While not a core requirement, this experience demonstrates analytical skills and a broader understanding of the marketing landscape. She could potentially highlight how this research informed her digital marketing efforts.\n*   **Transferable Skills:** Skills like Microsoft Office Suite and Google Workspace are valuable assets for general office productivity and collaboration, even though they are not the main focus of the role.\n"
          },
          "metadata": {}
        }
      ]
    },
    {
      "cell_type": "code",
      "source": [
        "class ResumeOutput(BaseModel):\n",
        "    updated_resume: str\n",
        "    diff_html: str\n",
        "\n",
        "\n",
        "def generate_resume(\n",
        "    job_description_text: str, resume_text: str, gap_analysis_openai: str, model: str = \"openai\") -> dict:\n",
        "    \"\"\"\n",
        "    Generate a tailored resume using OpenAI or Gemini.\n",
        "\n",
        "    Args:\n",
        "        job_description_text (str): The job description text.\n",
        "        resume_text (str): The candidate's resume text.\n",
        "        gap_analysis_openai (str): The gap analysis result from OpenAI.\n",
        "        model (str): The model to use for resume generation.\n",
        "\n",
        "    Returns:\n",
        "        dict: A dictionary containing the updated resume and diff markdown.\n",
        "    \"\"\"\n",
        "    # Construct the prompt for the AI model to generate the tailored resume.\n",
        "    # The prompt includes context, instructions, and input data (original resume,\n",
        "    # target job description, and gap analysis).\n",
        "    prompt = (\n",
        "        \"\"\"\n",
        "    ### Context:\n",
        "    You are an expert resume writer and editor. Your goal is to rewrite the original resume to match the target job description, using the provided tailoring suggestions and analysis.\n",
        "\n",
        "    ---\n",
        "\n",
        "    ### Instruction:\n",
        "    1. Rewrite the entire resume to best match the **Target Job Description** and **Gap Analysis to the Job Description**.\n",
        "    2. Improve clarity, add job-relevant keywords, and quantify achievements.\n",
        "    3. Specifically address the gaps identified in the analysis by:\n",
        "       - Adding missing skills and technologies mentioned in the job description\n",
        "       - Reframing experience to highlight relevant accomplishments\n",
        "       - Strengthening sections that were identified as weak in the analysis\n",
        "    4. Prioritize addressing the most critical gaps first\n",
        "    5. Incorporate industry-specific terminology from the job description\n",
        "\n",
        "     6. Ensure all quantifiable achievements are properly highlighted with metrics\n",
        "    7. Return two versions of the resume:\n",
        "        - `updated_resume`: The final rewritten resume (as plain text)\n",
        "        - `diff_html`: A version of the resume with inline highlights using color:\n",
        "            - Additions or rewritten content should be **green**:\n",
        "            `<span style=\"color:green\">your added or changed text</span>`\n",
        "            - Removed content should be **red and struck through**:\n",
        "            `<span style=\"color:red;text-decoration:line-through\">removed text</span>`\n",
        "            - Leave unchanged lines unmarked.\n",
        "        - Keep all section headers and formatting consistent with the original resume.\n",
        "\n",
        "    ---\n",
        "\n",
        "    ### Output Format:\n",
        "\n",
        "    ```json\n",
        "    {\n",
        "    \"updated_resume\": \"<full rewritten resume as plain text>\",\n",
        "    \"diff_markdown\": \"<HTML-colored version of the resume highlighting additions and deletions>\"\n",
        "    }\n",
        "    ```\n",
        "    ---\n",
        "    ### Input:\n",
        "\n",
        "    **Original Resume:**\n",
        "\n",
        "    \"\"\"\n",
        "        + resume_text\n",
        "        + \"\"\"\n",
        "\n",
        "\n",
        "    **Target Job Description:**\n",
        "\n",
        "    \"\"\"\n",
        "        + job_description_text\n",
        "        + \"\"\"\n",
        "\n",
        "\n",
        "    **Analysis of Resume vs. Job Description:**\n",
        "\n",
        "    \"\"\"\n",
        "        + gap_analysis_openai\n",
        "    )\n",
        "\n",
        "    # Depending on the selected model, call the appropriate function to generate the resume.\n",
        "    # If the OpenAI model is selected, it uses a temperature of 0.7 for creativity.\n",
        "    if model == \"openai\":\n",
        "        updated_resume_json = generate_resume(\n",
        "        job_description_text,\n",
        "        resume_text,\n",
        "        gap_analysis_openai,\n",
        "        model=\"openai\"  # Change from \"gemini\" to \"openai\"\n",
        "    )\n",
        "    # If the Gemini model is selected, it uses a lower temperature of 0.5 for more focused results.\n",
        "    elif model == \"gemini\":\n",
        "        updated_resume_json = gemini_generate(prompt, temperature = 0.7)\n",
        "    else:\n",
        "        # Raise an error if an invalid model name is provided.\n",
        "        raise ValueError(f\"Invalid model: {model}\")\n",
        "\n",
        "    # Return the generated resume output as a dictionary.\n",
        "    return updated_resume_json"
      ],
      "metadata": {
        "id": "hvAckesk9cEM"
      },
      "execution_count": 17,
      "outputs": []
    },
    {
      "cell_type": "code",
      "source": [
        "updated_resume_json = generate_resume(job_description_text, resume_text, gap_analysis_openai, model=\"openai\")\n",
        "# Display the updated resume in Markdown format.\n",
        "print_markdown(updated_resume_json.updated_resume)"
      ],
      "metadata": {
        "colab": {
          "base_uri": "https://localhost:8080/",
          "height": 466
        },
        "id": "a-7r-P2zBX3C",
        "outputId": "b5da81bb-04e2-4bdf-abb1-f893cdfaf154"
      },
      "execution_count": 109,
      "outputs": [
        {
          "output_type": "display_data",
          "data": {
            "text/plain": [
              "<IPython.core.display.Markdown object>"
            ],
            "text/markdown": "**Jessica Brown**  \njessica.brown@email.com | (416) 555-7890 | linkedin.com/in/jessicabrown  \n\n**Summary**  \nDynamic Digital Marketing Specialist with over 2 years of experience in developing and executing impactful digital marketing campaigns across multiple channels, including SEO, SEM, and social media. Proven ability to analyze performance data and optimize strategies to enhance audience engagement and drive brand growth. Strong communication skills and adept at collaborating with cross-functional teams to deliver creative solutions.  \n\n**Experience**  \n\n**Digital Marketing Assistant | Brewster Coffee Co. | Toronto, ON | Jan 2022 – Present**  \n- Spearheaded digital marketing campaigns, including email and social media, resulting in a **30% increase in audience engagement** over six months.  \n- Developed and executed SEO strategies, including keyword research and content optimization, which improved organic search rankings by **25%**.  \n- Managed and optimized social media accounts, increasing follower count by **40%** across platforms in under a year.  \n- Conducted market research and competitor analysis to inform campaign strategies and identify growth opportunities.  \n- Utilized Google Analytics to track campaign performance, generating comprehensive reports to guide future marketing efforts.  \n- Coordinated with designers to create visually appealing campaign materials, enhancing overall campaign effectiveness.  \n\n**Skills**  \n- Digital Marketing (SEO, SEM, Email Marketing)  \n- Google Analytics, Data Interpretation  \n- Social Media Management (Hootsuite, Buffer)  \n- CRM Systems (HubSpot)  \n- Adobe Creative Suite (Photoshop, Illustrator, InDesign)  \n- Microsoft Office Suite, Google Workspace  \n\n**Education**  \n**Bachelor of Commerce, Marketing** | Ryerson University (now Toronto Metropolitan University), Toronto, ON | May 2021"
          },
          "metadata": {}
        }
      ]
    },
    {
      "cell_type": "code",
      "source": [
        "print_markdown(updated_resume_json.diff_html)  # Change from diff_markdown to diff_html"
      ],
      "metadata": {
        "colab": {
          "base_uri": "https://localhost:8080/",
          "height": 258
        },
        "id": "b7Bj7sJYBddp",
        "outputId": "7e3a5bff-ddb1-4035-c3b6-98f9ae51a889"
      },
      "execution_count": 117,
      "outputs": [
        {
          "output_type": "error",
          "ename": "AttributeError",
          "evalue": "'ResumeOutput' object has no attribute 'diff_html'",
          "traceback": [
            "\u001b[0;31m---------------------------------------------------------------------------\u001b[0m",
            "\u001b[0;31mAttributeError\u001b[0m                            Traceback (most recent call last)",
            "\u001b[0;32m/tmp/ipython-input-117-1118665735.py\u001b[0m in \u001b[0;36m<cell line: 0>\u001b[0;34m()\u001b[0m\n\u001b[0;32m----> 1\u001b[0;31m \u001b[0mprint_markdown\u001b[0m\u001b[0;34m(\u001b[0m\u001b[0mupdated_resume_json\u001b[0m\u001b[0;34m.\u001b[0m\u001b[0mdiff_html\u001b[0m\u001b[0;34m)\u001b[0m  \u001b[0;31m# Change from diff_markdown to diff_html\u001b[0m\u001b[0;34m\u001b[0m\u001b[0;34m\u001b[0m\u001b[0m\n\u001b[0m",
            "\u001b[0;32m/usr/local/lib/python3.11/dist-packages/pydantic/main.py\u001b[0m in \u001b[0;36m__getattr__\u001b[0;34m(self, item)\u001b[0m\n\u001b[1;32m    989\u001b[0m                     \u001b[0;32melse\u001b[0m\u001b[0;34m:\u001b[0m\u001b[0;34m\u001b[0m\u001b[0;34m\u001b[0m\u001b[0m\n\u001b[1;32m    990\u001b[0m                         \u001b[0;31m# this is the current error\u001b[0m\u001b[0;34m\u001b[0m\u001b[0;34m\u001b[0m\u001b[0m\n\u001b[0;32m--> 991\u001b[0;31m                         \u001b[0;32mraise\u001b[0m \u001b[0mAttributeError\u001b[0m\u001b[0;34m(\u001b[0m\u001b[0;34mf'{type(self).__name__!r} object has no attribute {item!r}'\u001b[0m\u001b[0;34m)\u001b[0m\u001b[0;34m\u001b[0m\u001b[0;34m\u001b[0m\u001b[0m\n\u001b[0m\u001b[1;32m    992\u001b[0m \u001b[0;34m\u001b[0m\u001b[0m\n\u001b[1;32m    993\u001b[0m         \u001b[0;32mdef\u001b[0m \u001b[0m__setattr__\u001b[0m\u001b[0;34m(\u001b[0m\u001b[0mself\u001b[0m\u001b[0;34m,\u001b[0m \u001b[0mname\u001b[0m\u001b[0;34m:\u001b[0m \u001b[0mstr\u001b[0m\u001b[0;34m,\u001b[0m \u001b[0mvalue\u001b[0m\u001b[0;34m:\u001b[0m \u001b[0mAny\u001b[0m\u001b[0;34m)\u001b[0m \u001b[0;34m->\u001b[0m \u001b[0;32mNone\u001b[0m\u001b[0;34m:\u001b[0m\u001b[0;34m\u001b[0m\u001b[0;34m\u001b[0m\u001b[0m\n",
            "\u001b[0;31mAttributeError\u001b[0m: 'ResumeOutput' object has no attribute 'diff_html'"
          ]
        }
      ]
    },
    {
      "cell_type": "code",
      "source": [
        "print(dir(updated_resume_json))  # This will show you what attributes exist"
      ],
      "metadata": {
        "colab": {
          "base_uri": "https://localhost:8080/",
          "height": 0
        },
        "id": "yFgcXdstDCxX",
        "outputId": "1feac3c9-647a-499b-e853-c1b3a3a573e1"
      },
      "execution_count": 118,
      "outputs": [
        {
          "output_type": "stream",
          "name": "stdout",
          "text": [
            "['__abstractmethods__', '__annotations__', '__class__', '__class_getitem__', '__class_vars__', '__copy__', '__deepcopy__', '__delattr__', '__dict__', '__dir__', '__doc__', '__eq__', '__fields__', '__fields_set__', '__format__', '__ge__', '__get_pydantic_core_schema__', '__get_pydantic_json_schema__', '__getattr__', '__getattribute__', '__getstate__', '__gt__', '__hash__', '__init__', '__init_subclass__', '__iter__', '__le__', '__lt__', '__module__', '__ne__', '__new__', '__pretty__', '__private_attributes__', '__pydantic_complete__', '__pydantic_computed_fields__', '__pydantic_core_schema__', '__pydantic_custom_init__', '__pydantic_decorators__', '__pydantic_extra__', '__pydantic_fields__', '__pydantic_fields_set__', '__pydantic_generic_metadata__', '__pydantic_init_subclass__', '__pydantic_parent_namespace__', '__pydantic_post_init__', '__pydantic_private__', '__pydantic_root_model__', '__pydantic_serializer__', '__pydantic_setattr_handlers__', '__pydantic_validator__', '__reduce__', '__reduce_ex__', '__replace__', '__repr__', '__repr_args__', '__repr_name__', '__repr_recursion__', '__repr_str__', '__rich_repr__', '__setattr__', '__setstate__', '__signature__', '__sizeof__', '__slots__', '__str__', '__subclasshook__', '__weakref__', '_abc_impl', '_calculate_keys', '_copy_and_set_values', '_get_value', '_iter', '_setattr_handler', 'construct', 'copy', 'dict', 'diff_markdown', 'from_orm', 'json', 'model_computed_fields', 'model_config', 'model_construct', 'model_copy', 'model_dump', 'model_dump_json', 'model_extra', 'model_fields', 'model_fields_set', 'model_json_schema', 'model_parametrized_name', 'model_post_init', 'model_rebuild', 'model_validate', 'model_validate_json', 'model_validate_strings', 'parse_file', 'parse_obj', 'parse_raw', 'schema', 'schema_json', 'update_forward_refs', 'updated_resume', 'validate']\n"
          ]
        }
      ]
    },
    {
      "cell_type": "code",
      "source": [
        "# Option 1: If it still has diff_markdown\n",
        "print_markdown(updated_resume_json.diff_markdown)\n",
        "\n",
        "# Option 2: If you updated the model but need to re-run the generation\n",
        "updated_resume_json = generate_resume(job_description_text, resume_text, gap_analysis_openai, model=\"openai\")\n",
        "print_markdown(updated_resume_json.diff_html)"
      ],
      "metadata": {
        "colab": {
          "base_uri": "https://localhost:8080/",
          "height": 816
        },
        "id": "ntdt0OOVDW-u",
        "outputId": "835b10d7-1291-4139-dbe7-184646e1d72a"
      },
      "execution_count": 119,
      "outputs": [
        {
          "output_type": "display_data",
          "data": {
            "text/plain": [
              "<IPython.core.display.Markdown object>"
            ],
            "text/markdown": "**Jessica Brown**  \njessica.brown@email.com | (416) 555-7890 | linkedin.com/in/jessicabrown  \n\n**Summary**  \n<span style=\"color:green\">Dynamic Digital Marketing Specialist with over 2 years of experience in developing and executing impactful digital marketing campaigns across multiple channels, including SEO, SEM, and social media. Proven ability to analyze performance data and optimize strategies to enhance audience engagement and drive brand growth. Strong communication skills and adept at collaborating with cross-functional teams to deliver creative solutions.</span>  \n\n**Experience**  \n\n**Digital Marketing Assistant | Brewster Coffee Co. | Toronto, ON | Jan 2022 – Present**  \n- <span style=\"color:green\">Spearheaded digital marketing campaigns, including email and social media, resulting in a 30% increase in audience engagement over six months.</span>  \n- <span style=\"color:green\">Developed and executed SEO strategies, including keyword research and content optimization, which improved organic search rankings by 25%.</span>  \n- <span style=\"color:green\">Managed and optimized social media accounts, increasing follower count by 40% across platforms in under a year.</span>  \n- Conducted market research and competitor analysis to inform campaign strategies and identify growth opportunities.  \n- <span style=\"color:green\">Utilized Google Analytics to track campaign performance, generating comprehensive reports to guide future marketing efforts.</span>  \n- <span style=\"color:green\">Coordinated with designers to create visually appealing campaign materials, enhancing overall campaign effectiveness.</span>  \n\n**Skills**  \n- Digital Marketing (SEO, SEM, Email Marketing)  \n- <span style=\"color:green\">Google Analytics, Data Interpretation</span>  \n- Social Media Management (Hootsuite, Buffer)  \n- <span style=\"color:green\">CRM Systems (HubSpot)</span>  \n- <span style=\"color:green\">Adobe Creative Suite (Photoshop, Illustrator, InDesign)</span>  \n- Microsoft Office Suite, Google Workspace  \n\n**Education**  \n**Bachelor of Commerce, Marketing** | Ryerson University (now Toronto Metropolitan University), Toronto, ON | May 2021"
          },
          "metadata": {}
        },
        {
          "output_type": "error",
          "ename": "RecursionError",
          "evalue": "maximum recursion depth exceeded",
          "traceback": [
            "\u001b[0;31m---------------------------------------------------------------------------\u001b[0m",
            "\u001b[0;31mRecursionError\u001b[0m                            Traceback (most recent call last)",
            "\u001b[0;32m/tmp/ipython-input-119-1122851972.py\u001b[0m in \u001b[0;36m<cell line: 0>\u001b[0;34m()\u001b[0m\n\u001b[1;32m      3\u001b[0m \u001b[0;34m\u001b[0m\u001b[0m\n\u001b[1;32m      4\u001b[0m \u001b[0;31m# Option 2: If you updated the model but need to re-run the generation\u001b[0m\u001b[0;34m\u001b[0m\u001b[0;34m\u001b[0m\u001b[0m\n\u001b[0;32m----> 5\u001b[0;31m \u001b[0mupdated_resume_json\u001b[0m \u001b[0;34m=\u001b[0m \u001b[0mgenerate_resume\u001b[0m\u001b[0;34m(\u001b[0m\u001b[0mjob_description_text\u001b[0m\u001b[0;34m,\u001b[0m \u001b[0mresume_text\u001b[0m\u001b[0;34m,\u001b[0m \u001b[0mgap_analysis_openai\u001b[0m\u001b[0;34m,\u001b[0m \u001b[0mmodel\u001b[0m\u001b[0;34m=\u001b[0m\u001b[0;34m\"openai\"\u001b[0m\u001b[0;34m)\u001b[0m\u001b[0;34m\u001b[0m\u001b[0;34m\u001b[0m\u001b[0m\n\u001b[0m\u001b[1;32m      6\u001b[0m \u001b[0mprint_markdown\u001b[0m\u001b[0;34m(\u001b[0m\u001b[0mupdated_resume_json\u001b[0m\u001b[0;34m.\u001b[0m\u001b[0mdiff_html\u001b[0m\u001b[0;34m)\u001b[0m\u001b[0;34m\u001b[0m\u001b[0;34m\u001b[0m\u001b[0m\n",
            "\u001b[0;32m/tmp/ipython-input-116-2864648333.py\u001b[0m in \u001b[0;36mgenerate_resume\u001b[0;34m(job_description_text, resume_text, gap_analysis_openai, model)\u001b[0m\n\u001b[1;32m     85\u001b[0m     \u001b[0;31m# If the OpenAI model is selected, it uses a temperature of 0.7 for creativity.\u001b[0m\u001b[0;34m\u001b[0m\u001b[0;34m\u001b[0m\u001b[0m\n\u001b[1;32m     86\u001b[0m     \u001b[0;32mif\u001b[0m \u001b[0mmodel\u001b[0m \u001b[0;34m==\u001b[0m \u001b[0;34m\"openai\"\u001b[0m\u001b[0;34m:\u001b[0m\u001b[0;34m\u001b[0m\u001b[0;34m\u001b[0m\u001b[0m\n\u001b[0;32m---> 87\u001b[0;31m         updated_resume_json = generate_resume(\n\u001b[0m\u001b[1;32m     88\u001b[0m         \u001b[0mjob_description_text\u001b[0m\u001b[0;34m,\u001b[0m\u001b[0;34m\u001b[0m\u001b[0;34m\u001b[0m\u001b[0m\n\u001b[1;32m     89\u001b[0m         \u001b[0mresume_text\u001b[0m\u001b[0;34m,\u001b[0m\u001b[0;34m\u001b[0m\u001b[0;34m\u001b[0m\u001b[0m\n",
            "... last 1 frames repeated, from the frame below ...\n",
            "\u001b[0;32m/tmp/ipython-input-116-2864648333.py\u001b[0m in \u001b[0;36mgenerate_resume\u001b[0;34m(job_description_text, resume_text, gap_analysis_openai, model)\u001b[0m\n\u001b[1;32m     85\u001b[0m     \u001b[0;31m# If the OpenAI model is selected, it uses a temperature of 0.7 for creativity.\u001b[0m\u001b[0;34m\u001b[0m\u001b[0;34m\u001b[0m\u001b[0m\n\u001b[1;32m     86\u001b[0m     \u001b[0;32mif\u001b[0m \u001b[0mmodel\u001b[0m \u001b[0;34m==\u001b[0m \u001b[0;34m\"openai\"\u001b[0m\u001b[0;34m:\u001b[0m\u001b[0;34m\u001b[0m\u001b[0;34m\u001b[0m\u001b[0m\n\u001b[0;32m---> 87\u001b[0;31m         updated_resume_json = generate_resume(\n\u001b[0m\u001b[1;32m     88\u001b[0m         \u001b[0mjob_description_text\u001b[0m\u001b[0;34m,\u001b[0m\u001b[0;34m\u001b[0m\u001b[0;34m\u001b[0m\u001b[0m\n\u001b[1;32m     89\u001b[0m         \u001b[0mresume_text\u001b[0m\u001b[0;34m,\u001b[0m\u001b[0;34m\u001b[0m\u001b[0;34m\u001b[0m\u001b[0m\n",
            "\u001b[0;31mRecursionError\u001b[0m: maximum recursion depth exceeded"
          ]
        }
      ]
    },
    {
      "cell_type": "code",
      "source": [
        "class CoverLetterOutput(BaseModel):\n",
        "    cover_letter: str\n",
        "\n",
        "# The generate_cover_letter function creates a cover letter based on the provided job description and updated resume.\n",
        "# It takes three parameters:\n",
        "# (1) job_description_text: A string containing the job description for the position.\n",
        "# (2) updated_resume: A string containing the candidate's updated resume.\n",
        "# (3) model: A string indicating which model to use for generating the cover letter (default is \"openai\").\n",
        "# The function returns a dictionary containing the generated cover letter.\n",
        "\n",
        "def generate_cover_letter(job_description_text: str, updated_resume: str, model: str = \"openai\") -> dict:\n",
        "    \"\"\"\n",
        "    Generate a cover letter using OpenAI or Gemini.\n",
        "\n",
        "    Args:\n",
        "        job_description_text (str): The job description text.\n",
        "        updated_resume (str): The candidate's updated resume text.\n",
        "        model (str): The model to use for cover letter generation.\n",
        "\n",
        "    Returns:\n",
        "        dict: A dictionary containing the cover letter.\n",
        "    \"\"\"\n",
        "\n",
        "    # Construct the prompt for the AI model, including context and instructions for writing the cover letter.\n",
        "    prompt = (\n",
        "        \"\"\"\n",
        "    ### Context:\n",
        "    You are a professional career coach and expert cover letter writer.\n",
        "\n",
        "    ---\n",
        "\n",
        "    ### Instruction:\n",
        "    Write a compelling, personalized cover letter based on the **Updated Resume** and the **Target Job Description**. The letter should:\n",
        "    1. Be addressed generically (e.g., \"Dear Hiring Manager\")\n",
        "    2. Be no longer than 4 paragraphs\n",
        "    3. Highlight key achievements and experiences from the updated resume\n",
        "    4. Align with the responsibilities and qualifications in the job description\n",
        "    5. Reflect the applicant's enthusiasm and fit for the role\n",
        "    6. End with a confident and polite closing statement\n",
        "\n",
        "    ---\n",
        "    ### Output Format (JSON):\n",
        "    ```json\n",
        "    {\n",
        "    \"cover_letter\": \"<final cover letter text>\"\n",
        "    }\n",
        "    ```\n",
        "    ---\n",
        "\n",
        "    ### Input:\n",
        "\n",
        "    **Updated Resume:**\n",
        "\n",
        "    \"\"\"\n",
        "        + updated_resume\n",
        "        + \"\"\"\n",
        "    **Target Job Description:**\n",
        "\n",
        "    \"\"\"\n",
        "        + job_description_text\n",
        "    )\n",
        "\n",
        "    # Depending on the selected model, call the appropriate function to generate the cover letter.\n",
        "    if model == \"openai\":\n",
        "        # Get response from OpenAI API\n",
        "        updated_cover_letter = openai(prompt, temperature=0.7, response_format=CoverLetterOutput)\n",
        "    elif model == \"gemini\":\n",
        "        # Get response from Gemini API\n",
        "        updated_cover_letter = gemini_generate(prompt, temperature=0.5)\n",
        "    else:\n",
        "        # Raise an error if an invalid model name is provided.\n",
        "        raise ValueError(f\"Invalid model: {model}\")\n",
        "\n",
        "    # Return the generated cover letter as a dictionary.\n",
        "    return updated_cover_letter\n"
      ],
      "metadata": {
        "id": "21Wzx0V9DaTt"
      },
      "execution_count": 18,
      "outputs": []
    },
    {
      "cell_type": "code",
      "source": [
        "updated_cover_letter = generate_cover_letter(job_description_text, updated_resume_json.updated_resume, model=\"openai\")\n",
        "\n",
        "# Display the generated cover letter in Markdown format.\n",
        "print_markdown(updated_cover_letter.cover_letter)"
      ],
      "metadata": {
        "colab": {
          "base_uri": "https://localhost:8080/",
          "height": 320
        },
        "id": "4OXJ5QTHEBdq",
        "outputId": "f00eda5f-4eee-4688-a59a-7886be7bc3fc"
      },
      "execution_count": 123,
      "outputs": [
        {
          "output_type": "display_data",
          "data": {
            "text/plain": [
              "<IPython.core.display.Markdown object>"
            ],
            "text/markdown": "Dear Hiring Manager,\n\nI am excited to apply for the Digital Marketing Specialist position at BrightWave Digital Agency. With a Bachelor’s degree in Marketing and over two years of experience as a Digital Marketing Assistant at Brewster Coffee Co., I have honed my skills in developing and executing effective digital marketing campaigns across various platforms, making me a strong candidate for this role.\n\nDuring my time at Brewster Coffee Co., I successfully spearheaded multiple campaigns that resulted in a 30% increase in audience engagement within just six months. My experience in optimizing SEO strategies contributed to a 25% improvement in organic search rankings, aligning perfectly with your need for someone to assist in planning and executing digital marketing campaigns. Additionally, I am proficient in using Google Analytics to track performance metrics and prepare insightful reports, which is essential for the responsibilities outlined in your job description.\n\nI have a proven track record in social media management, having increased our follower count by 40% across various platforms while also engaging with the community to drive brand loyalty. My collaborative skills enable me to work effectively with designers to create visually appealing materials that resonate with target audiences. I am also passionate about staying updated with the latest digital marketing trends, ensuring that I bring fresh ideas to the team.\n\nI am eager to contribute my skills in digital marketing and my passion for creative solutions to BrightWave Digital Agency. I look forward to the opportunity to discuss how my background and enthusiasms align with the goals of your team. Thank you for considering my application.\n\nSincerely,\n\nJessica Brown"
          },
          "metadata": {}
        }
      ]
    },
    {
      "cell_type": "code",
      "source": [
        "def run_resume_rocket(resume_text: str, job_description_text: str) -> tuple[str, str]:\n",
        "    \"\"\"\n",
        "    Run the resume rocket workflow.\n",
        "\n",
        "    Args:\n",
        "        resume_text (str): The candidate's resume text.\n",
        "        job_description_text (str): The job description text.\n",
        "\n",
        "    Returns:\n",
        "        tuple: A tuple containing the updated resume and cover letter.\n",
        "    \"\"\"\n",
        "    # Analyze the candidate's resume against the job description using OpenAI's model.\n",
        "    # This function will return a structured analysis highlighting gaps and strengths.\n",
        "    gap_analysis_openai = analyze_resume_against_job_description(job_description_text,\n",
        "                                                                 resume_text,\n",
        "                                                                 model=\"openai\")\n",
        "\n",
        "    # Display the gap analysis results in Markdown format for better readability.\n",
        "    print_markdown(gap_analysis_openai)\n",
        "\n",
        "    # Print separators for clarity in the output.\n",
        "    print(\"\\n--------------------------------\")\n",
        "    print(\"--------------------------------\\n\")\n",
        "\n",
        "    # Generate an updated resume based on the job description, original resume, and gap analysis.\n",
        "    # This function will return a JSON-like object containing the updated resume and a diff markdown.\n",
        "    updated_resume_json = openai(prompt, response_format=ResumeOutput, temperature=0.7)\n",
        "\n",
        "    # Display the diff markdown which shows the changes made to the resume.\n",
        "    # print_markdown(updated_resume_json.diff_markdown)\n",
        "    print(\"\\n--------------------------------\")\n",
        "    print(\"--------------------------------\\n\")\n",
        "\n",
        "    # Display the updated resume in Markdown format.\n",
        "    print_markdown(updated_resume_json.updated_resume)\n",
        "\n",
        "    # Print separators for clarity in the output.\n",
        "    print(\"\\n--------------------------------\")\n",
        "    print(\"--------------------------------\\n\")\n",
        "\n",
        "    # Generate a cover letter based on the job description and the updated resume.\n",
        "    # This function will return the generated cover letter.\n",
        "    updated_cover_letter = generate_cover_letter(\n",
        "        job_description_text, updated_resume_json.updated_resume, model=\"openai\"\n",
        "    )\n",
        "\n",
        "    # Display the generated cover letter in Markdown format.\n",
        "    print_markdown(updated_cover_letter.cover_letter)\n",
        "\n",
        "    # Print separators for clarity in the output.\n",
        "    print(\"\\n--------------------------------\")\n",
        "    print(\"--------------------------------\\n\")\n",
        "\n",
        "    # Return the updated resume and the generated cover letter as a tuple.\n",
        "    return updated_resume_json.updated_resume, updated_cover_letter.cover_letter\n",
        "\n"
      ],
      "metadata": {
        "id": "FC_s8gbUEfhw"
      },
      "execution_count": 19,
      "outputs": []
    },
    {
      "cell_type": "code",
      "source": [
        "resume, cover_letter = run_resume_rocket(resume_text, job_description_text)"
      ],
      "metadata": {
        "colab": {
          "base_uri": "https://localhost:8080/",
          "height": 1000
        },
        "collapsed": true,
        "id": "7_zgGbHYHRbR",
        "outputId": "34217fb0-212a-4fd4-f521-56b5f69ef57e"
      },
      "execution_count": 20,
      "outputs": [
        {
          "output_type": "display_data",
          "data": {
            "text/plain": [
              "<IPython.core.display.Markdown object>"
            ],
            "text/markdown": "### 1. Key Requirements from Job Description:\n- **Education**: Bachelor's degree in Marketing, Communications, or similar.\n- **Experience**: 2+ years of digital marketing experience.\n- **Skills**:\n  - Planning and executing digital marketing campaigns (SEO, SEM, social media, email).\n  - Familiarity with Google Analytics and ability to prepare performance reports.\n  - Social media management, content scheduling, and community engagement.\n  - Keyword research and SEO content optimization.\n  - Collaboration with designers on campaign materials.\n  - Awareness of current digital marketing trends.\n- **Communication**: Strong communication and writing skills.\n- **Technical Skills**: Knowledge of CRM systems (e.g., HubSpot) and familiarity with Adobe Creative Suite.\n\n### 2. Relevant Experience in Resume:\n- **Education**: Bachelor of Commerce in Marketing.\n- **Experience**: 2 years as a Marketing Assistant, assisting in digital marketing campaigns, particularly email and social media.\n- **Skills**:\n  - Experience with social media management and content creation.\n  - Basic understanding of SEO and email marketing.\n  - Conducted market research and competitor analysis, indicating an understanding of digital marketing trends.\n- **Technical Skills**: \n  - Familiarity with social media tools (Hootsuite, Buffer).\n  - Basic knowledge of Adobe Photoshop.\n\n### 3. Gaps/Mismatches:\n- **Experience Duration**: The candidate has only 2 years of experience, which is on the edge of the required experience but not exceeding it; this could be a concern.\n- **Specific Tools and Skills**:\n  - The candidate lacks direct mention of Google Analytics experience, which is specifically requested.\n  - No experience with SEM (Search Engine Marketing) is mentioned.\n  - No mention of CRM systems (e.g., HubSpot), which is considered helpful.\n  - The candidate's experience with Adobe Creative Suite is not strong as it only mentions Adobe Photoshop, while broader knowledge is preferred.\n- **Performance Reporting**: There is no indication of experience preparing performance reports, which is an important aspect of the role.\n\n### 4. Potential Strengths:\n- **Social Media Management**: The candidate shows a proactive approach in managing social media accounts and improving audience engagement, which is valuable for a digital marketing role.\n- **Content Creation**: Experience in creating blog posts and social media updates demonstrates writing skills and creativity, which could be a strong asset.\n- **Market Research**: Conducting market research and competitor analysis indicates analytical skills and an understanding of the marketing landscape, which is beneficial.\n- **Adaptability**: The ability to handle multiple tasks and provide general marketing support suggests good organizational and multitasking skills.\n\n### Summary:\nJessica Brown's resume presents a solid foundation for the Digital Marketing Specialist position at BrightWave Digital Agency. While she meets the educational requirement and has relevant experience in digital marketing, there are notable gaps in specific skills, particularly with Google Analytics, SEM, and CRM systems. Strengths in social media management and content creation can enhance her application, but addressing the gaps and emphasizing transferable skills will be essential for a stronger alignment with the job description."
          },
          "metadata": {}
        },
        {
          "output_type": "stream",
          "name": "stdout",
          "text": [
            "\n",
            "--------------------------------\n",
            "--------------------------------\n",
            "\n",
            "\n",
            "--------------------------------\n",
            "--------------------------------\n",
            "\n"
          ]
        },
        {
          "output_type": "display_data",
          "data": {
            "text/plain": [
              "<IPython.core.display.Markdown object>"
            ],
            "text/markdown": "**Jessica Brown**  \njessica.brown@email.com | (416) 555-7890 | linkedin.com/in/jessicabrown  \n\n---  \n\n**Summary**  \nResults-driven marketing professional with over 2 years of experience in executing impactful digital campaigns, creating engaging content, and elevating brand presence on social media. Demonstrated ability to manage multiple projects simultaneously while delivering measurable results and enhancing audience engagement.  \n\n---  \n\n**Experience**  \n\n**Marketing Assistant | Brewster Coffee Co. | Toronto, ON | Jan 2022 – Present**  \n- Spearheaded digital marketing campaigns that resulted in a 30% increase in email open rates and a 25% rise in social media engagement.  \n- Developed and published 20+ blog posts and social media updates monthly, boosting website traffic by 40% year-over-year.  \n- Managed and optimized social media accounts, growing follower base from 1,000 to 3,500 in 12 months through targeted content strategies.  \n- Coordinated and executed 5 successful marketing events, enhancing brand visibility and generating a 15% increase in customer inquiries.  \n- Conducted comprehensive market research and competitor analysis, informing strategic decisions and improving campaign effectiveness.  \n\n---  \n\n**Skills**  \n- **Digital Marketing:** Proficient in SEO, Email Marketing, and content strategy development.  \n- **Social Media Management:** Experienced with Hootsuite and Buffer for scheduling and analytics.  \n- **Technical Skills:** Microsoft Office Suite, Google Workspace, and foundational Adobe Photoshop.  \n- **Analytical Skills:** Strong ability to interpret data and metrics to drive campaign improvements.  \n\n---  \n\n**Education**  \n**Bachelor of Commerce, Marketing**  \nRyerson University (now Toronto Metropolitan University), Toronto, ON | May 2021  \n\n---"
          },
          "metadata": {}
        },
        {
          "output_type": "stream",
          "name": "stdout",
          "text": [
            "\n",
            "--------------------------------\n",
            "--------------------------------\n",
            "\n"
          ]
        },
        {
          "output_type": "display_data",
          "data": {
            "text/plain": [
              "<IPython.core.display.Markdown object>"
            ],
            "text/markdown": "Dear Hiring Manager,\n\nI am writing to express my enthusiasm for the Digital Marketing Specialist position at BrightWave Digital Agency, as advertised. With a Bachelor’s degree in Marketing and over two years of hands-on experience in digital marketing, I am excited about the opportunity to contribute to your team by driving impactful campaigns and enhancing brand visibility for your diverse clientele.\n\nAt Brewster Coffee Co., I successfully spearheaded digital marketing campaigns that led to a 30% increase in email open rates and a 25% rise in social media engagement. My role involved developing and publishing over 20 blog posts and social media updates each month, which boosted website traffic by 40% year-over-year. These experiences have equipped me with a solid foundation in SEO, SEM, and content strategy development, aligning perfectly with the responsibilities outlined in your job description.\n\nAdditionally, my proficiency in Google Analytics has enabled me to interpret data effectively and prepare performance reports that inform strategic decisions. I have also managed social media accounts, growing our follower base significantly through targeted content strategies and community engagement. I am keen to bring this expertise to BrightWave, supporting your clients in achieving their marketing goals.\n\nI am particularly drawn to BrightWave's commitment to innovation in digital marketing, and I am eager to contribute to your continued success while continuing to grow in my career. Thank you for considering my application. I look forward to the opportunity to discuss how my background and skills align with the needs of your team.\n\nSincerely,\nJessica Brown"
          },
          "metadata": {}
        },
        {
          "output_type": "stream",
          "name": "stdout",
          "text": [
            "\n",
            "--------------------------------\n",
            "--------------------------------\n",
            "\n"
          ]
        }
      ]
    },
    {
      "cell_type": "code",
      "source": [
        "new_resume_text = \"\"\"\n",
        "JOHN SMITH\n",
        "Data Scientist | john.smith@email.com | (555) 123-4567 | linkedin.com/in/johnsmith\n",
        "\n",
        "SUMMARY\n",
        "Experienced data scientist with 5 years of experience in machine learning, statistical analysis, and data visualization. Proficient in Python, SQL, and R with a track record of delivering actionable insights.\n",
        "\n",
        "SKILLS\n",
        "- Programming: Python, R, SQL\n",
        "- Machine Learning: Scikit-learn, TensorFlow, PyTorch\n",
        "- Data Visualization: Tableau, Matplotlib, Seaborn\n",
        "- Tools: Git, Jupyter, Docker\n",
        "\n",
        "EXPERIENCE\n",
        "Senior Data Scientist | ABC Analytics | 2020-Present\n",
        "- Led a team of 3 data scientists in developing predictive models that increased customer retention by 15%\n",
        "- Implemented NLP solutions for automated text classification with 92% accuracy\n",
        "- Optimized data pipelines reducing processing time by 30%\n",
        "\n",
        "Data Analyst | XYZ Corporation | 2018-2020\n",
        "- Conducted A/B testing to optimize website conversion rates, resulting in 25% increase\n",
        "- Created interactive dashboards for executive team using Tableau\n",
        "- Automated reporting processes saving 10 hours per week\n",
        "\n",
        "EDUCATION\n",
        "Master of Science in Data Science | University of Data | 2018\n",
        "Bachelor of Science in Computer Science | Tech University | 2016\n",
        "\"\"\"\n",
        "\n",
        "new_job_description_text = \"\"\"\n",
        "SENIOR DATA ENGINEER\n",
        "\n",
        "Company: Tech Innovations Inc.\n",
        "Location: Remote (US-based)\n",
        "\n",
        "Job Description:\n",
        "We are seeking an experienced Senior Data Engineer to design, build and maintain our data infrastructure. The ideal candidate will have strong experience with cloud platforms, data warehousing, and ETL processes.\n",
        "\n",
        "Responsibilities:\n",
        "- Design and implement scalable data pipelines and ETL processes\n",
        "- Build and optimize data models for analytics and reporting\n",
        "- Collaborate with data scientists to productionize machine learning models\n",
        "- Maintain data quality and integrity across all systems\n",
        "- Implement data security and compliance measures\n",
        "\n",
        "Requirements:\n",
        "- 5+ years of experience in data engineering\n",
        "- Expert knowledge of SQL and Python\n",
        "- Experience with AWS services (S3, Redshift, Glue, Lambda)\n",
        "- Familiarity with data warehousing concepts and dimensional modeling\n",
        "- Experience with Apache Spark, Airflow, or similar technologies\n",
        "- Strong problem-solving skills and attention to detail\n",
        "- Excellent communication skills\n",
        "\n",
        "Preferred Qualifications:\n",
        "- Experience with real-time data processing\n",
        "- Knowledge of machine learning deployment\n",
        "- Familiarity with data governance frameworks\n",
        "- Experience with Kubernetes and Docker\n",
        "\"\"\""
      ],
      "metadata": {
        "id": "Z8mYqSAvHXYk"
      },
      "execution_count": 22,
      "outputs": []
    },
    {
      "cell_type": "code",
      "source": [
        "new_resume_text,new_cover_letter = run_resume_rocket(new_resume_text, new_job_description_text)"
      ],
      "metadata": {
        "colab": {
          "base_uri": "https://localhost:8080/",
          "height": 1000
        },
        "id": "NL1QcU7AvEAE",
        "outputId": "f724e464-21be-43be-91cb-0c46e537a246"
      },
      "execution_count": 23,
      "outputs": [
        {
          "output_type": "display_data",
          "data": {
            "text/plain": [
              "<IPython.core.display.Markdown object>"
            ],
            "text/markdown": "### 1. Key Requirements from Job Description:\n\n- **Experience:**\n  - 5+ years of experience in data engineering\n- **Technical Skills:**\n  - Expert knowledge of SQL and Python\n  - Experience with AWS services (S3, Redshift, Glue, Lambda)\n  - Familiarity with data warehousing concepts and dimensional modeling\n  - Experience with Apache Spark, Airflow, or similar technologies\n- **Responsibilities:**\n  - Design and implement scalable data pipelines and ETL processes\n  - Build and optimize data models for analytics and reporting\n  - Collaborate with data scientists to productionize machine learning models\n  - Maintain data quality and integrity across all systems\n  - Implement data security and compliance measures\n- **Soft Skills:**\n  - Strong problem-solving skills and attention to detail\n  - Excellent communication skills\n- **Preferred Qualifications:**\n  - Experience with real-time data processing\n  - Knowledge of machine learning deployment\n  - Familiarity with data governance frameworks\n  - Experience with Kubernetes and Docker\n\n### 2. Relevant Experience in Resume:\n\n- **Experience:**\n  - 5 years of experience in data science, which may overlap with data engineering tasks.\n- **Technical Skills:**\n  - Proficient in Python and SQL, as required.\n  - Experience with Docker, which is mentioned in the job description.\n- **Responsibilities:**\n  - Optimized data pipelines in the current role, which aligns with designing and implementing scalable data pipelines.\n  - Created interactive dashboards and automated reporting processes, indicating experience with data modeling for analytics.\n- **Soft Skills:**\n  - Leadership experience as a team lead, indicating strong communication and problem-solving skills.\n\n### 3. Gaps/Mismatches:\n\n- **Experience in Data Engineering:** The resume primarily focuses on data science rather than specific data engineering experience, which may not fully meet the \"5+ years of experience in data engineering\" requirement.\n- **AWS Services:** No mention of experience with AWS services such as S3, Redshift, Glue, or Lambda, which is critical for the role.\n- **Data Warehousing Concepts:** Lack of specific mention of familiarity with data warehousing concepts and dimensional modeling.\n- **Experience with ETL Processes:** While there is some mention of optimizing data pipelines, there is no explicit experience detailed with ETL processes.\n- **Technologies:** No mention of experience with Apache Spark, Airflow, or similar technologies.\n- **Real-time Data Processing:** There is no indication of experience with real-time data processing.\n- **Data Security and Compliance:** No mention of experience implementing data security and compliance measures.\n\n### 4. Potential Strengths:\n\n- **Machine Learning Expertise:** The candidate has a solid background in machine learning, which could be valuable in collaborating with data scientists to productionize models.\n- **Leadership Experience:** Leading a team of data scientists demonstrates leadership and project management abilities, which may be beneficial in a senior role.\n- **Statistics and Data Visualization Skills:** Strong skills in statistical analysis and data visualization tools can enhance data interpretation and reporting, adding value beyond basic data engineering tasks.\n- **Automated Reporting Processes:** Experience in automation can contribute to efficiency and optimization in data processes.\n\n### Summary:\n\nWhile the candidate has relevant skills and experience in data science, there are significant gaps in data engineering experience, particularly concerning AWS services, ETL processes, and data warehousing concepts. Emphasizing relevant skills and seeking additional experience or certifications in data engineering, particularly with cloud services, could strengthen the application for this Senior Data Engineer position."
          },
          "metadata": {}
        },
        {
          "output_type": "stream",
          "name": "stdout",
          "text": [
            "\n",
            "--------------------------------\n",
            "--------------------------------\n",
            "\n",
            "\n",
            "--------------------------------\n",
            "--------------------------------\n",
            "\n"
          ]
        },
        {
          "output_type": "display_data",
          "data": {
            "text/plain": [
              "<IPython.core.display.Markdown object>"
            ],
            "text/markdown": "**Jessica Brown**  \n[jessica.brown@email.com](mailto:jessica.brown@email.com) | (416) 555-7890 | [linkedin.com/in/jessicabrown](https://linkedin.com/in/jessicabrown)  \n\n---  \n**Summary**  \nDynamic marketing professional with over 2 years of experience in driving successful digital campaigns, creating compelling content, and enhancing brand visibility through social media strategies. Proven ability to manage multiple projects simultaneously while delivering measurable results in audience engagement and brand growth.  \n\n---  \n**Experience**  \n\n**Marketing Assistant | Brewster Coffee Co. | Toronto, ON | Jan 2022 – Present**  \n- Spearheaded digital marketing campaigns, achieving a **30% increase** in email open rates through targeted content and segmentation strategies.  \n- Developed and executed engaging blog posts and social media updates, resulting in a **50% boost** in audience engagement across platforms.  \n- Managed and optimized social media accounts, successfully growing the follower base by **40%** in under a year.  \n- Coordinated marketing events, enhancing brand presence and driving a **20% increase** in foot traffic during promotional campaigns.  \n- Conducted in-depth market research and competitor analysis, providing actionable insights that informed strategic marketing decisions.  \n\n---  \n**Skills**  \n- **Digital Marketing:** SEO fundamentals, Email Marketing strategies  \n- **Social Media Management:** Proficient in Hootsuite, Buffer, and analytics tools  \n- **Technical Skills:** Microsoft Office Suite, Google Workspace, Basic Adobe Photoshop  \n- **Research & Analysis:** Market research, Competitive analysis  \n\n---  \n**Education**  \n**Bachelor of Commerce in Marketing**  \nRyerson University (now Toronto Metropolitan University), Toronto, ON | May 2021  \n\n---"
          },
          "metadata": {}
        },
        {
          "output_type": "stream",
          "name": "stdout",
          "text": [
            "\n",
            "--------------------------------\n",
            "--------------------------------\n",
            "\n"
          ]
        },
        {
          "output_type": "display_data",
          "data": {
            "text/plain": [
              "<IPython.core.display.Markdown object>"
            ],
            "text/markdown": "Dear Hiring Manager,\n\nI am writing to express my interest in the Senior Data Engineer position at Tech Innovations Inc. While I have a background in marketing and digital strategy, I am eager to pivot my career into data engineering where I can leverage my analytical skills and passion for data management. During my time as a Marketing Assistant at Brewster Coffee Co., I gained valuable experience in data analysis and project management, which I believe will serve as a solid foundation for the responsibilities outlined in your job description.\n\nIn my current role, I spearheaded digital marketing campaigns that required me to analyze engagement data and optimize strategies based on these insights. This experience honed my ability to manage and interpret large datasets, resulting in a 30% increase in email open rates and a 50% boost in audience engagement. My proactive approach to market research and competitor analysis has also provided me with a keen understanding of data quality and integrity, which I know is crucial for maintaining robust data systems.\n\nAlthough my professional background is not strictly in data engineering, I possess a strong aptitude for learning new technologies and methodologies. I am proficient in SQL and have a foundational understanding of Python, which I have utilized in various projects to enhance data-driven decision-making. My enthusiasm for continuous learning drives me to explore cloud platforms and data warehousing concepts, positioning me to quickly adapt and excel in the technical aspects of the Senior Data Engineer role.\n\nI am excited about the opportunity to contribute to the innovative projects at Tech Innovations Inc. and am confident that my unique perspective and dedication to data integrity will be an asset to your team. Thank you for considering my application. I look forward to the possibility of discussing how I can help drive successful data initiatives within your organization.\n\nSincerely,\nJessica Brown\n[jessica.brown@email.com](mailto:jessica.brown@email.com)  \n(416) 555-7890"
          },
          "metadata": {}
        },
        {
          "output_type": "stream",
          "name": "stdout",
          "text": [
            "\n",
            "--------------------------------\n",
            "--------------------------------\n",
            "\n"
          ]
        }
      ]
    }
  ]
}