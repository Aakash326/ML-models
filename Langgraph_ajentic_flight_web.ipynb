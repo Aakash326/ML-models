{
  "nbformat": 4,
  "nbformat_minor": 0,
  "metadata": {
    "colab": {
      "provenance": [],
      "authorship_tag": "ABX9TyNeE/hkWbune1JeqFYtP+MD",
      "include_colab_link": true
    },
    "kernelspec": {
      "name": "python3",
      "display_name": "Python 3"
    },
    "language_info": {
      "name": "python"
    }
  },
  "cells": [
    {
      "cell_type": "markdown",
      "metadata": {
        "id": "view-in-github",
        "colab_type": "text"
      },
      "source": [
        "<a href=\"https://colab.research.google.com/github/Aakash326/ML-models/blob/main/Langgraph_ajentic_flight_web.ipynb\" target=\"_parent\"><img src=\"https://colab.research.google.com/assets/colab-badge.svg\" alt=\"Open In Colab\"/></a>"
      ]
    },
    {
      "cell_type": "code",
      "execution_count": null,
      "metadata": {
        "colab": {
          "base_uri": "https://localhost:8080/"
        },
        "id": "FolKVqUG2a_R",
        "outputId": "23573278-afb0-48eb-8d9e-fd02fddae64c"
      },
      "outputs": [
        {
          "output_type": "stream",
          "name": "stdout",
          "text": [
            "  Preparing metadata (setup.py) ... \u001b[?25l\u001b[?25hdone\n",
            "\u001b[2K     \u001b[90m━━━━━━━━━━━━━━━━━━━━━━━━━━━━━━━━━━━━━━━━\u001b[0m \u001b[32m43.7/43.7 kB\u001b[0m \u001b[31m1.3 MB/s\u001b[0m eta \u001b[36m0:00:00\u001b[0m\n",
            "\u001b[2K   \u001b[90m━━━━━━━━━━━━━━━━━━━━━━━━━━━━━━━━━━━━━━━━\u001b[0m \u001b[32m143.8/143.8 kB\u001b[0m \u001b[31m8.9 MB/s\u001b[0m eta \u001b[36m0:00:00\u001b[0m\n",
            "\u001b[2K   \u001b[90m━━━━━━━━━━━━━━━━━━━━━━━━━━━━━━━━━━━━━━━━\u001b[0m \u001b[32m70.6/70.6 kB\u001b[0m \u001b[31m3.6 MB/s\u001b[0m eta \u001b[36m0:00:00\u001b[0m\n",
            "\u001b[2K   \u001b[90m━━━━━━━━━━━━━━━━━━━━━━━━━━━━━━━━━━━━━━━━\u001b[0m \u001b[32m59.6/59.6 MB\u001b[0m \u001b[31m11.6 MB/s\u001b[0m eta \u001b[36m0:00:00\u001b[0m\n",
            "\u001b[2K   \u001b[90m━━━━━━━━━━━━━━━━━━━━━━━━━━━━━━━━━━━━━━━━\u001b[0m \u001b[32m324.5/324.5 kB\u001b[0m \u001b[31m22.3 MB/s\u001b[0m eta \u001b[36m0:00:00\u001b[0m\n",
            "\u001b[2K   \u001b[90m━━━━━━━━━━━━━━━━━━━━━━━━━━━━━━━━━━━━━━━━\u001b[0m \u001b[32m2.5/2.5 MB\u001b[0m \u001b[31m57.1 MB/s\u001b[0m eta \u001b[36m0:00:00\u001b[0m\n",
            "\u001b[2K   \u001b[90m━━━━━━━━━━━━━━━━━━━━━━━━━━━━━━━━━━━━━━━━\u001b[0m \u001b[32m2.9/2.9 MB\u001b[0m \u001b[31m56.5 MB/s\u001b[0m eta \u001b[36m0:00:00\u001b[0m\n",
            "\u001b[2K   \u001b[90m━━━━━━━━━━━━━━━━━━━━━━━━━━━━━━━━━━━━━━━━\u001b[0m \u001b[32m43.9/43.9 kB\u001b[0m \u001b[31m2.8 MB/s\u001b[0m eta \u001b[36m0:00:00\u001b[0m\n",
            "\u001b[2K   \u001b[90m━━━━━━━━━━━━━━━━━━━━━━━━━━━━━━━━━━━━━━━━\u001b[0m \u001b[32m50.2/50.2 kB\u001b[0m \u001b[31m3.8 MB/s\u001b[0m eta \u001b[36m0:00:00\u001b[0m\n",
            "\u001b[2K   \u001b[90m━━━━━━━━━━━━━━━━━━━━━━━━━━━━━━━━━━━━━━━━\u001b[0m \u001b[32m45.2/45.2 kB\u001b[0m \u001b[31m3.1 MB/s\u001b[0m eta \u001b[36m0:00:00\u001b[0m\n",
            "\u001b[2K   \u001b[90m━━━━━━━━━━━━━━━━━━━━━━━━━━━━━━━━━━━━━━━━\u001b[0m \u001b[32m50.9/50.9 kB\u001b[0m \u001b[31m3.7 MB/s\u001b[0m eta \u001b[36m0:00:00\u001b[0m\n",
            "\u001b[2K   \u001b[90m━━━━━━━━━━━━━━━━━━━━━━━━━━━━━━━━━━━━━━━━\u001b[0m \u001b[32m216.5/216.5 kB\u001b[0m \u001b[31m16.2 MB/s\u001b[0m eta \u001b[36m0:00:00\u001b[0m\n",
            "\u001b[?25h  Building wheel for amadeus (setup.py) ... \u001b[?25l\u001b[?25hdone\n"
          ]
        }
      ],
      "source": [
        "!pip install -q --upgrade langchain langgraph langchain_openai tavily-python amadeus python-dotenv gradio langchain_community graphviz\n"
      ]
    },
    {
      "cell_type": "code",
      "source": [
        "# Import necessary libraries\n",
        "import os\n",
        "import uuid\n",
        "import getpass\n",
        "from typing import TypedDict, Annotated, Sequence, List, Tuple, Optional, Any, Union, Literal,  Tuple\n",
        "import operator\n",
        "from datetime import date\n",
        "from IPython.display import display, Markdown, Image\n",
        "from graphviz import Source\n",
        "import uuid  # Added for Gradio state\n",
        "\n",
        "# Langchain specific imports\n",
        "from langchain_openai import ChatOpenAI\n",
        "from langchain_community.tools.tavily_search import TavilySearchResults\n",
        "from langchain_core.messages import BaseMessage, ToolMessage, HumanMessage, AIMessage, SystemMessage\n",
        "from langchain.tools import tool\n",
        "from langchain_core.pydantic_v1 import BaseModel  # For tool args schema if needed explicitly\n",
        "\n",
        "# LangGraph imports (Updated based on recent versions)\n",
        "from langgraph.graph import StateGraph, END\n",
        "from langgraph.prebuilt import ToolNode  # Preferred way to handle tool execution\n",
        "\n",
        "# Gradio\n",
        "import gradio as gr"
      ],
      "metadata": {
        "colab": {
          "base_uri": "https://localhost:8080/"
        },
        "id": "71lGAM-12dZi",
        "outputId": "d732b835-ae1f-4384-8ea0-12856a47763f"
      },
      "execution_count": null,
      "outputs": [
        {
          "output_type": "stream",
          "name": "stderr",
          "text": [
            "/usr/local/lib/python3.11/dist-packages/IPython/core/interactiveshell.py:3553: LangChainDeprecationWarning: As of langchain-core 0.3.0, LangChain uses pydantic v2 internally. The langchain_core.pydantic_v1 module was a compatibility shim for pydantic v1, and should no longer be used. Please update the code to import from Pydantic directly.\n",
            "\n",
            "For example, replace imports like: `from langchain_core.pydantic_v1 import BaseModel`\n",
            "with: `from pydantic import BaseModel`\n",
            "or the v1 compatibility namespace if you are working in a code base that has not been fully upgraded to pydantic 2 yet. \tfrom pydantic.v1 import BaseModel\n",
            "\n",
            "  exec(code_obj, self.user_global_ns, self.user_ns)\n"
          ]
        }
      ]
    },
    {
      "cell_type": "code",
      "source": [
        "from google.colab import userdata\n",
        "from openai import OpenAI\n",
        "\n",
        "# ✅ Load the secret from Colab\n",
        "openai_api_key = userdata.get(\"OPENAI_API_KEY\")  # must match exactly what you named it in the Secrets panel\n",
        "\n",
        "# ✅ Initialize the OpenAI client\n",
        "client = OpenAI(api_key=openai_api_key)"
      ],
      "metadata": {
        "id": "LTenzNJu2fMr"
      },
      "execution_count": null,
      "outputs": []
    },
    {
      "cell_type": "code",
      "source": [
        "def print_markdown(text):\n",
        "    \"\"\"Displays text as Markdown in Jupyter.\"\"\"\n",
        "    display(Markdown(text))"
      ],
      "metadata": {
        "id": "dpn76VKc2g6v"
      },
      "execution_count": null,
      "outputs": []
    },
    {
      "cell_type": "code",
      "source": [
        "class AgentState(TypedDict):\n",
        "    input_text: str\n",
        "    summary: str"
      ],
      "metadata": {
        "id": "fA5hauln2z0f"
      },
      "execution_count": null,
      "outputs": []
    },
    {
      "cell_type": "code",
      "source": [
        "def summarize_step(state: AgentState) -> AgentState:\n",
        "    \"\"\"Create a concise summary of the input text.\"\"\"\n",
        "\n",
        "    # Initialize the OpenAI model and define the prompt\n",
        "    llm = ChatOpenAI(\n",
        "    model=\"gpt-4o-mini\",\n",
        "    api_key=openai_api_key\n",
        ")\n",
        "\n",
        "    prompt = f\"Please summarize the following text in one sentence that captures the main points: {state['input_text']}\"\n",
        "\n",
        "    # Get the summary directly from the model\n",
        "    result = llm.invoke([prompt])\n",
        "\n",
        "    # Update the state with our summary\n",
        "    return {\n",
        "        \"input_text\": state[\"input_text\"],  # Keep the original text\n",
        "        \"summary\": result.content  # Add the summary\n",
        "    }"
      ],
      "metadata": {
        "id": "Ov98D89927S7"
      },
      "execution_count": null,
      "outputs": []
    },
    {
      "cell_type": "code",
      "source": [
        "workflow = StateGraph(AgentState)\n",
        "\n",
        "# Let's add a node, which is the summarize function we defined before\n",
        "workflow.add_node(\"summarize\", summarize_step)\n",
        "\n",
        "# Let's define Edges, which define how data flows between nodes\n",
        "workflow.add_edge(\"summarize\", END)\n",
        "workflow.set_entry_point(\"summarize\")\n",
        "workflow.compile()"
      ],
      "metadata": {
        "colab": {
          "base_uri": "https://localhost:8080/",
          "height": 251
        },
        "id": "icsg9uq63gD-",
        "outputId": "f7b3c6a4-321f-48c5-e42f-9aa542f5809a"
      },
      "execution_count": null,
      "outputs": [
        {
          "output_type": "execute_result",
          "data": {
            "text/plain": [
              "<langgraph.graph.state.CompiledStateGraph object at 0x7f4f07f25490>"
            ],
            "image/png": "[encoded data removed]"
          },
          "metadata": {},
          "execution_count": 23
        }
      ]
    },
    {
      "cell_type": "code",
      "source": [
        "sample_text = \"\"\"\n",
        "    Electric cars work by using electricity stored in a battery pack to power an electric motor, which drives the wheels.\n",
        "    Unlike gasoline-powered vehicles that rely on internal combustion engines, electric vehicles (EVS) use electric motors that are more efficient and produce zero emissions during operation.\n",
        "    When you press the accelerator, the battery sends power to the motor, which instantly provides torque to move the car.\n",
        "    The battery is recharged by plugging the car into an external power source, such as a home charger or public charging station.\n",
        "    Some electric cars also feature regenerative braking, which captures energy during braking and feeds it back into the battery to improve efficiency.\n",
        "    \"\"\"\n",
        "\n",
        "# Let's compile the graph\n",
        "graph = workflow.compile()\n",
        "\n",
        "# Set up the initial state with the input text\n",
        "initial_state = {\n",
        "        \"input_text\": sample_text,\n",
        "        \"summary\": \"\"}\n",
        "\n",
        "# Run the graph\n",
        "result = graph.invoke(initial_state)\n",
        "\n",
        "# Get the summary from the result\n",
        "summary = result[\"summary\"]\n",
        "\n",
        "# Print the result\n",
        "print_markdown(summary)"
      ],
      "metadata": {
        "colab": {
          "base_uri": "https://localhost:8080/",
          "height": 63
        },
        "id": "NZ723UhC4KPw",
        "outputId": "e02237e8-ef07-4148-ee59-534c2ad8d37a"
      },
      "execution_count": null,
      "outputs": [
        {
          "output_type": "display_data",
          "data": {
            "text/plain": [
              "<IPython.core.display.Markdown object>"
            ],
            "text/markdown": "Electric cars operate using electricity stored in batteries to power electric motors, providing efficient, zero-emission performance, and can be recharged via external power sources, while some models also utilize regenerative braking to enhance energy efficiency."
          },
          "metadata": {}
        }
      ]
    },
    {
      "cell_type": "code",
      "source": [
        "response= client.chat.completions.create(\n",
        "    model=\"gpt-4o-mini\",\n",
        "    messages=[{'role':'user','content':'Hi'}], # Changed from 'message' to 'messages'\n",
        "    temperature=0.3\n",
        ")\n",
        "print(response.choices[0].message.content) # Changed from 'contant' to 'content'"
      ],
      "metadata": {
        "colab": {
          "base_uri": "https://localhost:8080/"
        },
        "id": "ed3eyKjY48ts",
        "outputId": "146fdd32-697d-4946-e557-821b9e83a6a3"
      },
      "execution_count": null,
      "outputs": [
        {
          "output_type": "stream",
          "name": "stdout",
          "text": [
            "Hello! How can I assist you today?\n"
          ]
        }
      ]
    },
    {
      "cell_type": "code",
      "source": [
        "class AgentState(TypedDict):\n",
        "    input_text: str\n",
        "    summary: str\n",
        "    translated_summary: str\n",
        "\n",
        "\n",
        "def translate_step(state: AgentState) -> AgentState:\n",
        "    \"\"\"Translate text\"\"\"\n",
        "\n",
        "    # Initialize the OpenAI model and define the prompt\n",
        "    llm = ChatOpenAI(\n",
        "    model=\"gpt-4o-mini\",\n",
        "    api_key=openai_api_key\n",
        "    )\n",
        "    prompt = f\"Please translate from english to spanish: {state['summary']}\"\n",
        "\n",
        "    # Get the summary directly from the model\n",
        "    result = llm.invoke([prompt])\n",
        "\n",
        "    # Update the state with our summary\n",
        "    return {\n",
        "        \"input_text\": state[\"input_text\"],  # Keep the original text\n",
        "        \"summary\": state[\"summary\"],  # Add the summary\n",
        "        \"translated_summary\": result.content\n",
        "    }\n",
        "\n",
        "\n",
        "# Let's define a stategraph with the \"AgentState\" we defined earlier\n",
        "workflow = StateGraph(AgentState)\n",
        "\n",
        "# Let's add a node, which is the summarize function we defined before\n",
        "workflow.add_node(\"summarize\", summarize_step)\n",
        "\n",
        "# Let's define Edges, which define how data flows between nodes\n",
        "workflow.add_edge(\"summarize\", \"translate\")\n",
        "\n",
        "workflow.add_node(\"translate\", translate_step)\n",
        "\n",
        "workflow.set_entry_point(\"summarize\")\n",
        "workflow.compile()"
      ],
      "metadata": {
        "colab": {
          "base_uri": "https://localhost:8080/",
          "height": 350
        },
        "id": "5fJMB6au8vfT",
        "outputId": "0c9c9a3b-ea00-4a3d-8b4b-5a849dadbd34"
      },
      "execution_count": null,
      "outputs": [
        {
          "output_type": "execute_result",
          "data": {
            "text/plain": [
              "<langgraph.graph.state.CompiledStateGraph object at 0x7f4f07edacd0>"
            ],
            "image/png": "[encoded data removed]"
          },
          "metadata": {},
          "execution_count": 33
        }
      ]
    },
    {
      "cell_type": "code",
      "source": [
        "sample_text = \"\"\"\n",
        "    Electric cars are awesome! I love them so much! They work by using electricity stored in a battery pack to power an electric motor, which drives the wheels.\n",
        "    Unlike gasoline-powered vehicles that rely on internal combustion engines, electric vehicles (EVS) use electric motors that are more efficient and produce zero emissions during operation.\n",
        "    When you press the accelerator, the battery sends power to the motor, which instantly provides torque to move the car.\n",
        "    The battery is recharged by plugging the car into an external power source, such as a home charger or public charging station.\n",
        "    Some electric cars also feature regenerative braking, which captures energy during braking and feeds it back into the battery to improve efficiency.\n",
        "    \"\"\"\n",
        "\n",
        "# Let's compile the graph\n",
        "graph = workflow.compile()\n",
        "\n",
        "# Set up the initial state with the input text\n",
        "initial_state = {\n",
        "        \"input_text\": sample_text,\n",
        "        \"summary\": \"\",\n",
        "        \"translated_summary\": \"\"}\n",
        "\n",
        "# Run the graph\n",
        "result = graph.invoke(initial_state)\n",
        "\n",
        "# Get the summary from the result\n",
        "summary = result[\"summary\"]\n",
        "translation = result[\"translated_summary\"]\n",
        "\n",
        "# Print the results with clear labels and spacing\n",
        "print(\"=== Generated Summary ===\")\n",
        "print(summary)\n",
        "\n",
        "print(\"\\n=== Translated Summary ===\")\n",
        "print(translation)"
      ],
      "metadata": {
        "colab": {
          "base_uri": "https://localhost:8080/"
        },
        "id": "Z6ZvQwIE6A1y",
        "outputId": "29d5b54d-7fe2-4c92-b77e-1fb4820cbfef"
      },
      "execution_count": null,
      "outputs": [
        {
          "output_type": "stream",
          "name": "stdout",
          "text": [
            "=== Generated Summary ===\n",
            "Electric cars are highly efficient vehicles powered by electric motors using stored battery energy, produce zero emissions, and can be recharged through external power sources, with some models featuring regenerative braking to enhance energy efficiency.\n",
            "\n",
            "=== Translated Summary ===\n",
            "Los coches eléctricos son vehículos altamente eficientes impulsados por motores eléctricos que utilizan energía de batería almacenada, producen cero emisiones y pueden recargarse a través de fuentes de energía externas, con algunos modelos que cuentan con frenos regenerativos para mejorar la eficiencia energética.\n"
          ]
        }
      ]
    },
    {
      "cell_type": "code",
      "source": [
        "tavily_api_key = os.environ[\"TAVILY_API_KEY\"]\n",
        "print(f\"Tavily Key starts with: {tavily_api_key[:5]}...\")"
      ],
      "metadata": {
        "id": "dTwCBrm8805g"
      },
      "execution_count": null,
      "outputs": []
    },
    {
      "cell_type": "code",
      "source": [
        "llm = ChatOpenAI(model = \"gpt-4.1-mini\", temperature = 0, streaming = True)\n",
        "print(\"LangChain OpenAI Chat Model configured.\")"
      ],
      "metadata": {
        "id": "bSLdvLBFDtfd"
      },
      "execution_count": null,
      "outputs": []
    },
    {
      "cell_type": "code",
      "source": [
        "class AgentState(TypedDict):\n",
        "    # AgentState is the name of the dictionary (used to represent the agent's state in the workflow).\n",
        "    # It has one key: \"messages\", which holds a list of messages (e.g., from the user, model, or tools).\n",
        "    # BaseMessage is the type used to represent each message in that list.\n",
        "    # operator.add tells LangGraph to append new messages to the list during execution.\n",
        "    messages: Annotated[Sequence[BaseMessage], operator.add]"
      ],
      "metadata": {
        "id": "iMsJUWEYDtiQ"
      },
      "execution_count": null,
      "outputs": []
    },
    {
      "cell_type": "code",
      "source": [
        "from langchain_community.tools.tavily_search import TavilySearchResults\n",
        "\n",
        "tavily_search_tool = TavilySearchResults(max_results = 3)\n",
        "\n",
        "# List of tools for this step\n",
        "tools_list_single = [tavily_search_tool]"
      ],
      "metadata": {
        "id": "uC3DYRE_DtlW"
      },
      "execution_count": null,
      "outputs": []
    },
    {
      "cell_type": "code",
      "source": [],
      "metadata": {
        "id": "gWQJhA1QD2do"
      },
      "execution_count": null,
      "outputs": []
    }
  ]
}